{
  "cells": [
    {
      "cell_type": "code",
      "execution_count": null,
      "outputs": [],
      "source": [
        "# # This Python 3 environment comes with many helpful analytics libraries installed\n",
        "# # It is defined by the kaggle/python Docker image: https://github.com/kaggle/docker-python\n",
        "# # For example, here's several helpful packages to load\n",
        "#\n",
        "# import numpy as np # linear algebra\n",
        "# import pandas as pd # data processing, CSV file I/O (e.g. pd.read_csv)\n",
        "#\n",
        "# # Input data files are available in the read-only \"../input/\" directory\n",
        "# # For example, running this (by clicking run or pressing Shift+Enter) will list all files under the input directory\n",
        "#\n",
        "# import os\n",
        "# for dirname, _, filenames in os.walk('/kaggle/input'):\n",
        "#     for filename in filenames:\n",
        "#         print(os.path.join(dirname, filename))\n",
        "#\n",
        "# # You can write up to 20GB to the current directory (/kaggle/working/) that gets preserved as output when you create a version using \"Save & Run All\"\n",
        "# # You can also write temporary files to /kaggle/temp/, but they won't be saved outside of the current session\n"
      ],
      "metadata": {
        "ExecuteTime": {
          "start_time": "2023-08-18T21:33:25.418018Z",
          "end_time": "2023-08-18T21:33:26.872406Z"
        },
        "id": "EuvXhU-5ay5m"
      }
    },
    {
      "cell_type": "markdown",
      "source": [
        "Данные\n",
        "train.csv - информация о характеристиках автомобилей (440000), которые будут использоваться в качестве обучающих данных.\n",
        "test.csv - информация о характеристиках автомобилей (110000), которые будут использоваться в качестве тестовых данных.\n",
        "\n",
        "Ваша задача - предсказать значение 'sellingprice' для каждого автомобиля из этого датасета.\n",
        "sample_submission.csv - пример файла предсказаний в правильном формате."
      ],
      "metadata": {
        "collapsed": false,
        "id": "aJtFgbJOay5p"
      }
    },
    {
      "cell_type": "markdown",
      "source": [
        "sample_submission.csv - пример файла предсказаний в правильном формате.\n",
        "vin - идентификатор автомобиля в тестовом наборе.\n",
        "sellingprice - Целевой признак. Для каждого автомобиля предскажите числовое значение стоимости продажи.   Описание полей данных"
      ],
      "metadata": {
        "collapsed": false,
        "id": "IJfBnqukay5q"
      }
    },
    {
      "cell_type": "markdown",
      "source": [
        "year: Год выпуска автомобиля.\n",
        "Make: Марка автомобиля.\n",
        "Model: издание автомобиля определенной марки.\n",
        "Trim: Уровни отделки салона автомобиля — это просто разные версии модели.\n",
        "Body: Тип кузова транспортного средства относится к форме и модели конкретной марки автомобиля.\n",
        "Transmission: механизм, который передает мощность от двигателя к колесам.\n",
        "VIN: идентификационный номер транспортного средства.\n",
        "State: штат.\n",
        "Condition: Состояние автомобилей на момент аукциона.\n",
        "Odometer: расстояние, пройденное автомобилем с момента выпуска.\n",
        "Color: Цвет кузова автомобиля.\n",
        "Interior: Цвет салона автомобиля.\n",
        "Seller: Продавец автомобиля, автосалоны.\n",
        "sellingprice: цена, по которой автомобиль был продан на аукционе.\n",
        "saledate: Дата продажи автомобиля."
      ],
      "metadata": {
        "collapsed": false,
        "id": "dldauKe8ay5q"
      }
    },
    {
      "cell_type": "code",
      "execution_count": null,
      "outputs": [],
      "source": [
        "import numpy as np\n",
        "import pandas as pd\n",
        "import matplotlib.pyplot as plt\n",
        "import seaborn as sns\n",
        "\n",
        "from sklearn.metrics import make_scorer\n",
        "from sklearn.pipeline import Pipeline\n",
        "from sklearn.compose import ColumnTransformer\n",
        "from sklearn.ensemble import GradientBoostingRegressor\n",
        "from sklearn.linear_model import LinearRegression\n",
        "from sklearn.ensemble import RandomForestRegressor\n",
        "from sklearn.metrics import mean_squared_error\n",
        "from sklearn.preprocessing import OrdinalEncoder\n"
      ],
      "metadata": {
        "ExecuteTime": {
          "start_time": "2023-08-18T21:33:26.856725Z",
          "end_time": "2023-08-18T21:33:27.422521Z"
        },
        "id": "42Jh8nQUay5r"
      }
    },
    {
      "cell_type": "code",
      "execution_count": null,
      "outputs": [
        {
          "data": {
            "text/plain": "   year    make   model    trim   body transmission                vin state  \\\n0  2011    Ford    Edge     SEL    suv    automatic  2fmdk3jc4bba41556    md   \n1  2014    Ford  Fusion      SE  Sedan    automatic  3fa6p0h75er208976    mo   \n2  2012  Nissan  Sentra  2.0 SL  sedan    automatic  3n1ab6ap4cl698412    nj   \n3  2003  HUMMER      H2    Base    suv    automatic  5grgn23u93h101360    tx   \n4  2007    Ford  Fusion     SEL  Sedan    automatic  3fahp08z17r268380    md   \n\n   condition  odometer  color interior                      seller  \\\n0        4.2  111041.0  black    black          santander consumer   \n1        3.5   31034.0  black    black       ars/avis budget group   \n2        2.2   35619.0  black    black          nissan-infiniti lt   \n3        2.8  131301.0   gold    beige  wichita falls ford lin inc   \n4        2.0  127709.0  black    black                purple heart   \n\n   sellingprice                                 saledate  \n0         12500  Tue Jun 02 2015 02:30:00 GMT-0700 (PDT)  \n1         14500  Wed Feb 25 2015 02:00:00 GMT-0800 (PST)  \n2          9100  Wed Jun 10 2015 02:30:00 GMT-0700 (PDT)  \n3         13300  Wed Jun 17 2015 03:00:00 GMT-0700 (PDT)  \n4          1300  Tue Feb 03 2015 04:00:00 GMT-0800 (PST)  ",
            "text/html": "<div>\n<style scoped>\n    .dataframe tbody tr th:only-of-type {\n        vertical-align: middle;\n    }\n\n    .dataframe tbody tr th {\n        vertical-align: top;\n    }\n\n    .dataframe thead th {\n        text-align: right;\n    }\n</style>\n<table border=\"1\" class=\"dataframe\">\n  <thead>\n    <tr style=\"text-align: right;\">\n      <th></th>\n      <th>year</th>\n      <th>make</th>\n      <th>model</th>\n      <th>trim</th>\n      <th>body</th>\n      <th>transmission</th>\n      <th>vin</th>\n      <th>state</th>\n      <th>condition</th>\n      <th>odometer</th>\n      <th>color</th>\n      <th>interior</th>\n      <th>seller</th>\n      <th>sellingprice</th>\n      <th>saledate</th>\n    </tr>\n  </thead>\n  <tbody>\n    <tr>\n      <th>0</th>\n      <td>2011</td>\n      <td>Ford</td>\n      <td>Edge</td>\n      <td>SEL</td>\n      <td>suv</td>\n      <td>automatic</td>\n      <td>2fmdk3jc4bba41556</td>\n      <td>md</td>\n      <td>4.2</td>\n      <td>111041.0</td>\n      <td>black</td>\n      <td>black</td>\n      <td>santander consumer</td>\n      <td>12500</td>\n      <td>Tue Jun 02 2015 02:30:00 GMT-0700 (PDT)</td>\n    </tr>\n    <tr>\n      <th>1</th>\n      <td>2014</td>\n      <td>Ford</td>\n      <td>Fusion</td>\n      <td>SE</td>\n      <td>Sedan</td>\n      <td>automatic</td>\n      <td>3fa6p0h75er208976</td>\n      <td>mo</td>\n      <td>3.5</td>\n      <td>31034.0</td>\n      <td>black</td>\n      <td>black</td>\n      <td>ars/avis budget group</td>\n      <td>14500</td>\n      <td>Wed Feb 25 2015 02:00:00 GMT-0800 (PST)</td>\n    </tr>\n    <tr>\n      <th>2</th>\n      <td>2012</td>\n      <td>Nissan</td>\n      <td>Sentra</td>\n      <td>2.0 SL</td>\n      <td>sedan</td>\n      <td>automatic</td>\n      <td>3n1ab6ap4cl698412</td>\n      <td>nj</td>\n      <td>2.2</td>\n      <td>35619.0</td>\n      <td>black</td>\n      <td>black</td>\n      <td>nissan-infiniti lt</td>\n      <td>9100</td>\n      <td>Wed Jun 10 2015 02:30:00 GMT-0700 (PDT)</td>\n    </tr>\n    <tr>\n      <th>3</th>\n      <td>2003</td>\n      <td>HUMMER</td>\n      <td>H2</td>\n      <td>Base</td>\n      <td>suv</td>\n      <td>automatic</td>\n      <td>5grgn23u93h101360</td>\n      <td>tx</td>\n      <td>2.8</td>\n      <td>131301.0</td>\n      <td>gold</td>\n      <td>beige</td>\n      <td>wichita falls ford lin inc</td>\n      <td>13300</td>\n      <td>Wed Jun 17 2015 03:00:00 GMT-0700 (PDT)</td>\n    </tr>\n    <tr>\n      <th>4</th>\n      <td>2007</td>\n      <td>Ford</td>\n      <td>Fusion</td>\n      <td>SEL</td>\n      <td>Sedan</td>\n      <td>automatic</td>\n      <td>3fahp08z17r268380</td>\n      <td>md</td>\n      <td>2.0</td>\n      <td>127709.0</td>\n      <td>black</td>\n      <td>black</td>\n      <td>purple heart</td>\n      <td>1300</td>\n      <td>Tue Feb 03 2015 04:00:00 GMT-0800 (PST)</td>\n    </tr>\n  </tbody>\n</table>\n</div>"
          },
          "execution_count": 148,
          "metadata": {},
          "output_type": "execute_result"
        }
      ],
      "source": [
        "\n",
        "\n",
        "# Загрузка\n",
        "train_data = pd.read_csv('train.csv')\n",
        "test_data = pd.read_csv('test.csv')\n",
        "sample_submission = pd.read_csv('sample_submission.csv')\n",
        "\n",
        "train_data.head()\n"
      ],
      "metadata": {
        "ExecuteTime": {
          "start_time": "2023-08-18T21:33:27.406953Z",
          "end_time": "2023-08-18T21:33:30.165756Z"
        },
        "id": "cUu4MXS1ay5r",
        "outputId": "ff850677-028e-49d3-d77e-413d01ae59c9"
      }
    },
    {
      "cell_type": "code",
      "execution_count": null,
      "metadata": {
        "collapsed": true,
        "ExecuteTime": {
          "start_time": "2023-08-18T21:33:30.165756Z",
          "end_time": "2023-08-18T21:33:30.179454Z"
        },
        "id": "1rbHO5diay5s",
        "outputId": "d1fe5b88-6755-41dd-f0cd-26491b175443"
      },
      "outputs": [
        {
          "data": {
            "text/plain": "   year       make         model      trim      body transmission  \\\n0  2005   Cadillac           CTS      Base     Sedan    automatic   \n1  2014        GMC  Savana Cargo      2500       Van          NaN   \n2  2013     Nissan        Murano         S       SUV    automatic   \n3  2013  Chevrolet        Impala  LS Fleet     Sedan    automatic   \n4  2013     Nissan         Titan        SV  Crew Cab    automatic   \n\n                 vin state  condition  odometer   color interior  \\\n0  1g6dp567450124779    ca        2.7  116970.0  silver    black   \n1  1gtw7fca7e1902207    pa        4.4    6286.0   white     gray   \n2  jn8az1mw6dw303497    oh        4.6   11831.0    gray    black   \n3  2g1wf5e34d1160703    fl        2.3   57105.0  silver    black   \n4  1n6aa0ec3dn301209    tn        2.9   31083.0   black    black   \n\n                                             seller  \\\n0                            lexus of stevens creek   \n1                                            u-haul   \n2                                nissan-infiniti lt   \n3  onemain rem/auto club of miami inc dba north dad   \n4                         nissan north america inc.   \n\n                                  saledate  \n0  Wed Jan 14 2015 04:30:00 GMT-0800 (PST)  \n1  Fri Feb 27 2015 01:00:00 GMT-0800 (PST)  \n2  Tue Feb 24 2015 01:30:00 GMT-0800 (PST)  \n3  Fri Mar 06 2015 02:00:00 GMT-0800 (PST)  \n4  Wed Jun 03 2015 03:30:00 GMT-0700 (PDT)  ",
            "text/html": "<div>\n<style scoped>\n    .dataframe tbody tr th:only-of-type {\n        vertical-align: middle;\n    }\n\n    .dataframe tbody tr th {\n        vertical-align: top;\n    }\n\n    .dataframe thead th {\n        text-align: right;\n    }\n</style>\n<table border=\"1\" class=\"dataframe\">\n  <thead>\n    <tr style=\"text-align: right;\">\n      <th></th>\n      <th>year</th>\n      <th>make</th>\n      <th>model</th>\n      <th>trim</th>\n      <th>body</th>\n      <th>transmission</th>\n      <th>vin</th>\n      <th>state</th>\n      <th>condition</th>\n      <th>odometer</th>\n      <th>color</th>\n      <th>interior</th>\n      <th>seller</th>\n      <th>saledate</th>\n    </tr>\n  </thead>\n  <tbody>\n    <tr>\n      <th>0</th>\n      <td>2005</td>\n      <td>Cadillac</td>\n      <td>CTS</td>\n      <td>Base</td>\n      <td>Sedan</td>\n      <td>automatic</td>\n      <td>1g6dp567450124779</td>\n      <td>ca</td>\n      <td>2.7</td>\n      <td>116970.0</td>\n      <td>silver</td>\n      <td>black</td>\n      <td>lexus of stevens creek</td>\n      <td>Wed Jan 14 2015 04:30:00 GMT-0800 (PST)</td>\n    </tr>\n    <tr>\n      <th>1</th>\n      <td>2014</td>\n      <td>GMC</td>\n      <td>Savana Cargo</td>\n      <td>2500</td>\n      <td>Van</td>\n      <td>NaN</td>\n      <td>1gtw7fca7e1902207</td>\n      <td>pa</td>\n      <td>4.4</td>\n      <td>6286.0</td>\n      <td>white</td>\n      <td>gray</td>\n      <td>u-haul</td>\n      <td>Fri Feb 27 2015 01:00:00 GMT-0800 (PST)</td>\n    </tr>\n    <tr>\n      <th>2</th>\n      <td>2013</td>\n      <td>Nissan</td>\n      <td>Murano</td>\n      <td>S</td>\n      <td>SUV</td>\n      <td>automatic</td>\n      <td>jn8az1mw6dw303497</td>\n      <td>oh</td>\n      <td>4.6</td>\n      <td>11831.0</td>\n      <td>gray</td>\n      <td>black</td>\n      <td>nissan-infiniti lt</td>\n      <td>Tue Feb 24 2015 01:30:00 GMT-0800 (PST)</td>\n    </tr>\n    <tr>\n      <th>3</th>\n      <td>2013</td>\n      <td>Chevrolet</td>\n      <td>Impala</td>\n      <td>LS Fleet</td>\n      <td>Sedan</td>\n      <td>automatic</td>\n      <td>2g1wf5e34d1160703</td>\n      <td>fl</td>\n      <td>2.3</td>\n      <td>57105.0</td>\n      <td>silver</td>\n      <td>black</td>\n      <td>onemain rem/auto club of miami inc dba north dad</td>\n      <td>Fri Mar 06 2015 02:00:00 GMT-0800 (PST)</td>\n    </tr>\n    <tr>\n      <th>4</th>\n      <td>2013</td>\n      <td>Nissan</td>\n      <td>Titan</td>\n      <td>SV</td>\n      <td>Crew Cab</td>\n      <td>automatic</td>\n      <td>1n6aa0ec3dn301209</td>\n      <td>tn</td>\n      <td>2.9</td>\n      <td>31083.0</td>\n      <td>black</td>\n      <td>black</td>\n      <td>nissan north america inc.</td>\n      <td>Wed Jun 03 2015 03:30:00 GMT-0700 (PDT)</td>\n    </tr>\n  </tbody>\n</table>\n</div>"
          },
          "execution_count": 149,
          "metadata": {},
          "output_type": "execute_result"
        }
      ],
      "source": [
        "test_data.head()\n"
      ]
    },
    {
      "cell_type": "code",
      "execution_count": null,
      "outputs": [
        {
          "data": {
            "text/plain": "array(['md', 'mo', 'nj', 'tx', 'mi', 'nc', 'fl', 'oh', 'ca', 'az', 'ga',\n       'tn', 'in', 'pa', 'va', 'wi', 'co', 'ny', 'il', 'nv', 'mn', 'wa',\n       'sc', 'la', 'ne', 'ok', 'or', 'on', 'ma', 'ab', 'pr', 'hi', 'ut',\n       'qc', 'ms', 'nm', 'ns', 'al'], dtype=object)"
          },
          "execution_count": 150,
          "metadata": {},
          "output_type": "execute_result"
        }
      ],
      "source": [
        "train_data['state'].unique()"
      ],
      "metadata": {
        "ExecuteTime": {
          "start_time": "2023-08-18T21:33:30.179454Z",
          "end_time": "2023-08-18T21:33:30.311404Z"
        },
        "id": "SCm12whMay5t",
        "outputId": "ab5e93cc-c0ab-4b76-d198-976cdf78e118"
      }
    },
    {
      "cell_type": "code",
      "execution_count": null,
      "outputs": [
        {
          "data": {
            "text/plain": "                 vin  sellingprice\n0  1g6dp567450124779   4680.751482\n1  1gtw7fca7e1902207  22471.699037\n2  jn8az1mw6dw303497  19396.635884\n3  2g1wf5e34d1160703   9190.083337\n4  1n6aa0ec3dn301209  21906.903341",
            "text/html": "<div>\n<style scoped>\n    .dataframe tbody tr th:only-of-type {\n        vertical-align: middle;\n    }\n\n    .dataframe tbody tr th {\n        vertical-align: top;\n    }\n\n    .dataframe thead th {\n        text-align: right;\n    }\n</style>\n<table border=\"1\" class=\"dataframe\">\n  <thead>\n    <tr style=\"text-align: right;\">\n      <th></th>\n      <th>vin</th>\n      <th>sellingprice</th>\n    </tr>\n  </thead>\n  <tbody>\n    <tr>\n      <th>0</th>\n      <td>1g6dp567450124779</td>\n      <td>4680.751482</td>\n    </tr>\n    <tr>\n      <th>1</th>\n      <td>1gtw7fca7e1902207</td>\n      <td>22471.699037</td>\n    </tr>\n    <tr>\n      <th>2</th>\n      <td>jn8az1mw6dw303497</td>\n      <td>19396.635884</td>\n    </tr>\n    <tr>\n      <th>3</th>\n      <td>2g1wf5e34d1160703</td>\n      <td>9190.083337</td>\n    </tr>\n    <tr>\n      <th>4</th>\n      <td>1n6aa0ec3dn301209</td>\n      <td>21906.903341</td>\n    </tr>\n  </tbody>\n</table>\n</div>"
          },
          "execution_count": 151,
          "metadata": {},
          "output_type": "execute_result"
        }
      ],
      "source": [
        "sample_submission.head()"
      ],
      "metadata": {
        "ExecuteTime": {
          "start_time": "2023-08-18T21:33:30.208517Z",
          "end_time": "2023-08-18T21:33:30.311404Z"
        },
        "id": "FXfQXnDFay5t",
        "outputId": "f0f972e3-528b-4c69-ccfe-9f9be2b1b9ca"
      }
    },
    {
      "cell_type": "code",
      "execution_count": null,
      "outputs": [
        {
          "data": {
            "text/plain": "transmission    51461\nbody            10393\ncondition        9405\ntrim             8337\nmodel            8123\nmake             8043\ncolor             586\ninterior          586\nodometer           69\ndtype: int64"
          },
          "execution_count": 152,
          "metadata": {},
          "output_type": "execute_result"
        }
      ],
      "source": [
        "# пустые\n",
        "missing_train = train_data.isnull().sum()\n",
        "missing_test = test_data.isnull().sum()\n",
        "\n",
        "missing_train[missing_train > 0].sort_values(ascending=False)"
      ],
      "metadata": {
        "ExecuteTime": {
          "start_time": "2023-08-18T21:33:30.217630Z",
          "end_time": "2023-08-18T21:33:31.090062Z"
        },
        "id": "9sLY9YtPay5u",
        "outputId": "243b12b5-7914-44a6-f794-3fc41c84fa79"
      }
    },
    {
      "cell_type": "markdown",
      "source": [
        "### Имеются пропущенные значения в следующих столбцах как для обучающего, так и для тестового датасетов:\n",
        "\n",
        "* Make (марка автомобиля)\n",
        "* Model (модель автомобиля)\n",
        "* rim (уровень отделки салона)\n",
        "* Body (тип кузова)\n",
        "* Condition (состояние автомобиля)\n",
        "* Odometer (пробег автомобиля)\n",
        "* Color (цвет кузова)\n",
        "* Interior (цвет салона)"
      ],
      "metadata": {
        "collapsed": false,
        "id": "Q8K4FPO0ay5u"
      }
    },
    {
      "cell_type": "code",
      "execution_count": null,
      "outputs": [
        {
          "data": {
            "text/plain": "year             0.000000\nmake             0.000000\nmodel            0.000000\ntrim             0.000000\nbody             0.000000\ntransmission    11.821948\nvin              0.000000\nstate            0.000000\ncondition        0.000000\nodometer         0.000000\ncolor            0.000000\ninterior         0.000000\nseller           0.000000\nsaledate         0.000000\ndtype: float64"
          },
          "execution_count": 153,
          "metadata": {},
          "output_type": "execute_result"
        }
      ],
      "source": [
        "# Замена пропусков на 0 во всех колонках, кроме 'transmission'\n",
        "test_data = test_data.fillna({col: 0 for col in test_data.columns if col != \"transmission\"})\n",
        "\n",
        "# Проверка процентного соотношения пропусков после замены\n",
        "missing_percentage_cleaned = (test_data.isnull().sum() / len(test_data)) * 100\n",
        "missing_percentage_cleaned\n",
        "\n"
      ],
      "metadata": {
        "ExecuteTime": {
          "start_time": "2023-08-18T21:33:31.093969Z",
          "end_time": "2023-08-18T21:33:31.344172Z"
        },
        "id": "It2Ji865ay5v",
        "outputId": "fecf6f95-c698-4940-d7d5-e535cd253b39"
      }
    },
    {
      "cell_type": "code",
      "execution_count": null,
      "outputs": [
        {
          "data": {
            "text/plain": "440236"
          },
          "execution_count": 154,
          "metadata": {},
          "output_type": "execute_result"
        }
      ],
      "source": [
        "len(train_data)"
      ],
      "metadata": {
        "ExecuteTime": {
          "start_time": "2023-08-18T21:33:31.344172Z",
          "end_time": "2023-08-18T21:33:31.349351Z"
        },
        "id": "xplvJXxpay5v",
        "outputId": "4c63193c-309a-4fce-c36d-90043b5c4d6d"
      }
    },
    {
      "cell_type": "code",
      "execution_count": null,
      "outputs": [
        {
          "data": {
            "text/plain": "0"
          },
          "execution_count": 155,
          "metadata": {},
          "output_type": "execute_result"
        }
      ],
      "source": [
        "# Список столбцов с пропущенными данными\n",
        "columns_with_missing = ['make', 'model', 'trim', 'body', 'transmission', 'condition', 'odometer', 'color', 'interior']\n",
        "# Находим строки, где все значения из списка пропущены\n",
        "rows_to_drop = train_data[train_data[columns_with_missing].isnull().all(axis=1)].index\n",
        "\n",
        "# Удаляем найденные строки из тренировочного датасета\n",
        "train_data.drop(rows_to_drop, inplace=True)\n",
        "\n",
        "# Возвращаем количество удаленных строк\n",
        "len(rows_to_drop)\n"
      ],
      "metadata": {
        "ExecuteTime": {
          "start_time": "2023-08-18T21:33:31.349351Z",
          "end_time": "2023-08-18T21:33:31.879398Z"
        },
        "id": "PW33rj5eay5v",
        "outputId": "fec9b366-b0dd-4a1e-9c51-5e2535a69968"
      }
    },
    {
      "cell_type": "code",
      "execution_count": null,
      "outputs": [
        {
          "data": {
            "text/plain": "440236"
          },
          "execution_count": 156,
          "metadata": {},
          "output_type": "execute_result"
        }
      ],
      "source": [
        "len(train_data)"
      ],
      "metadata": {
        "ExecuteTime": {
          "start_time": "2023-08-18T21:33:31.873767Z",
          "end_time": "2023-08-18T21:33:31.879398Z"
        },
        "id": "tENgwTIEay5w",
        "outputId": "a64ad912-7fe0-4c2c-8f60-a0988b385fab"
      }
    },
    {
      "cell_type": "markdown",
      "source": [
        "В тренировочном датасете нет строк, где все 9 указанных пунктов пропущены. Таким образом, мы не удалили ни одной строки."
      ],
      "metadata": {
        "collapsed": false,
        "id": "zF0MtmJtay5w"
      }
    },
    {
      "cell_type": "markdown",
      "source": [
        "### заполнить пропущенные значения в столбце \"Model\" на основе наиболее часто встречающейся модели для каждой марки автомобиля (\"Make\").!"
      ],
      "metadata": {
        "collapsed": false,
        "id": "rme71xRnay5w"
      }
    },
    {
      "cell_type": "code",
      "execution_count": null,
      "outputs": [
        {
          "data": {
            "text/plain": "0"
          },
          "execution_count": 157,
          "metadata": {},
          "output_type": "execute_result"
        }
      ],
      "source": [
        "# Заполняем пропущенные значения в 'make' значением \"Unknown\"\n",
        "train_data['make'].fillna('Unknown', inplace=True)\n",
        "\n",
        "# Заполняем пропущенные значения в 'Model' на основе наиболее часто встречающейся модели для каждой марки\n",
        "model_fill_values = train_data.groupby('make')['model'].apply(lambda x: x.mode().iloc[0] if not x.mode().empty else \"Unknown\")\n",
        "train_data['model'] = train_data.apply(lambda row: model_fill_values[row['make']] if pd.isnull(row['model']) else row['model'], axis=1)\n",
        "\n",
        "# Проверяем количество пропущенных значений в столбце 'model' после заполнения\n",
        "train_data['model'].isnull().sum()\n",
        "\n"
      ],
      "metadata": {
        "ExecuteTime": {
          "start_time": "2023-08-18T21:33:31.879398Z",
          "end_time": "2023-08-18T21:33:35.522160Z"
        },
        "id": "wfvbkqDzay5x",
        "outputId": "ea2bdf92-89ed-4a70-b0e8-dd369c08bfdd"
      }
    },
    {
      "cell_type": "markdown",
      "source": [
        "проверка"
      ],
      "metadata": {
        "collapsed": false,
        "id": "5J0O7wc8ay5x"
      }
    },
    {
      "cell_type": "code",
      "execution_count": null,
      "outputs": [
        {
          "data": {
            "text/plain": "440236"
          },
          "execution_count": 159,
          "metadata": {},
          "output_type": "execute_result"
        }
      ],
      "source": [
        "len(train_data)"
      ],
      "metadata": {
        "ExecuteTime": {
          "start_time": "2023-08-18T21:33:35.522160Z",
          "end_time": "2023-08-18T21:33:35.533007Z"
        },
        "id": "LXeo5Bp8ay5x",
        "outputId": "b825c19c-3958-4596-feab-9e6a4a5cf7e6"
      }
    },
    {
      "cell_type": "markdown",
      "source": [
        "Trim (уровень отделки салона) и Color (цвет кузова) и Interior (цвет салона) замени пустые на Unknown"
      ],
      "metadata": {
        "collapsed": false,
        "id": "uizhJBQ1ay5y"
      }
    },
    {
      "cell_type": "code",
      "execution_count": null,
      "outputs": [
        {
          "data": {
            "text/plain": "trim        0\ncolor       0\ninterior    0\ndtype: int64"
          },
          "execution_count": 160,
          "metadata": {},
          "output_type": "execute_result"
        }
      ],
      "source": [
        "# Заполняем пропущенные значения в указанных столбцах значением \"Unknown\"\n",
        "columns_to_fill = ['trim', 'color', 'interior']\n",
        "for column in columns_to_fill:\n",
        "    train_data[column].fillna('Unknown', inplace=True)\n",
        "    # test_data[column].fillna('Unknown', inplace=True)\n",
        "# Проверяем количество пропущенных значений в этих столбцах после заполнения\n",
        "train_data[columns_to_fill].isnull().sum()\n",
        "# test_data[columns_to_fill].isnull().sum()\n"
      ],
      "metadata": {
        "ExecuteTime": {
          "start_time": "2023-08-18T21:33:35.533007Z",
          "end_time": "2023-08-18T21:33:35.795219Z"
        },
        "id": "cnqPu6E9ay5y",
        "outputId": "19bcbece-eae1-41e9-ec80-ff8e028b96ef"
      }
    },
    {
      "cell_type": "code",
      "execution_count": null,
      "outputs": [
        {
          "data": {
            "text/plain": "trim        0\ncolor       0\ninterior    0\ndtype: int64"
          },
          "execution_count": 161,
          "metadata": {},
          "output_type": "execute_result"
        }
      ],
      "source": [
        "test_data[columns_to_fill].isnull().sum()"
      ],
      "metadata": {
        "ExecuteTime": {
          "start_time": "2023-08-18T21:33:35.795219Z",
          "end_time": "2023-08-18T21:33:35.859484Z"
        },
        "id": "J5rx_ejJay5y",
        "outputId": "02ca723d-30e7-4e4e-ac1d-09b4e209f4cc"
      }
    },
    {
      "cell_type": "markdown",
      "source": [
        "Остатки"
      ],
      "metadata": {
        "collapsed": false,
        "id": "YuzAjoG9ay5y"
      }
    },
    {
      "cell_type": "code",
      "execution_count": null,
      "outputs": [
        {
          "data": {
            "text/plain": "transmission    11.689412\nbody             2.360779\ncondition        2.136354\nodometer         0.015673\nyear             0.000000\nmake             0.000000\nmodel            0.000000\ntrim             0.000000\nvin              0.000000\nstate            0.000000\ncolor            0.000000\ninterior         0.000000\nseller           0.000000\nsellingprice     0.000000\nsaledate         0.000000\ndtype: float64"
          },
          "execution_count": 162,
          "metadata": {},
          "output_type": "execute_result"
        }
      ],
      "source": [
        "# Проверяем столбцы с пропущенными значениями в тренировочном датасете\n",
        "remaining_missing = train_data.isnull().sum()\n",
        "# Рассчитываем процент пропущенных значений для каждого столбца\n",
        "missing_percentage = (remaining_missing / len(train_data)) * 100\n",
        "missing_percentage.sort_values(ascending=False)"
      ],
      "metadata": {
        "ExecuteTime": {
          "start_time": "2023-08-18T21:33:35.859484Z",
          "end_time": "2023-08-18T21:33:36.340023Z"
        },
        "id": "J9E0xYTuay5z",
        "outputId": "323020bf-7f23-448d-c880-773bc2a52f86"
      }
    },
    {
      "cell_type": "markdown",
      "source": [
        "Процент пропущенных значений в указанных столбцах:\n",
        "\n",
        "* Transmission (тип трансмиссии) - 11.69%\n",
        "* Body (тип кузова) - 2.36%\n",
        "* Condition (состояние автомобиля) - 2.14%\n",
        "* Odometer (пробег автомобиля) - 0.016%"
      ],
      "metadata": {
        "collapsed": false,
        "id": "AQ2vDAIsay5z"
      }
    },
    {
      "cell_type": "markdown",
      "source": [
        "### Odometer удалить или сделать 0. данных минимум удалю. Второй варинт посмотреть состояние и год если 2015, поставить 0"
      ],
      "metadata": {
        "collapsed": false,
        "id": "EB2ztkpiay5z"
      }
    },
    {
      "cell_type": "code",
      "execution_count": null,
      "outputs": [
        {
          "data": {
            "text/plain": "0"
          },
          "execution_count": 163,
          "metadata": {},
          "output_type": "execute_result"
        }
      ],
      "source": [
        "# Удаляем строки с пропущенными значениями в столбце 'odometer'\n",
        "train_data.dropna(subset=['odometer'], inplace=True)\n",
        "# Проверяем количество пропущенных значений в столбце 'odometer' после удаления\n",
        "missing_odometer = train_data['odometer'].isnull().sum()\n",
        "missing_odometer\n"
      ],
      "metadata": {
        "ExecuteTime": {
          "start_time": "2023-08-18T21:33:36.344670Z",
          "end_time": "2023-08-18T21:33:36.419280Z"
        },
        "id": "APOb17etay5z",
        "outputId": "2c35d848-03d4-440a-c973-7ab068803a24"
      }
    },
    {
      "cell_type": "code",
      "execution_count": null,
      "outputs": [
        {
          "data": {
            "text/plain": "440167"
          },
          "execution_count": 164,
          "metadata": {},
          "output_type": "execute_result"
        }
      ],
      "source": [
        "len(train_data)"
      ],
      "metadata": {
        "ExecuteTime": {
          "start_time": "2023-08-18T21:33:36.419280Z",
          "end_time": "2023-08-18T21:33:36.426310Z"
        },
        "id": "t8_374KOay50",
        "outputId": "e50d4ff1-81ff-4284-924d-a987a6673933"
      }
    },
    {
      "cell_type": "markdown",
      "source": [
        "### Condition (состояние автомобиля) - 2.14%   варианты"
      ],
      "metadata": {
        "collapsed": false,
        "id": "kLyrTRxMay50"
      }
    },
    {
      "cell_type": "code",
      "execution_count": null,
      "outputs": [
        {
          "data": {
            "text/plain": "1.9    33203\n3.5    21016\n3.7    20399\n4.4    20025\n4.3    19712\n4.2    19345\n3.6    18208\n4.1    18108\n2.0    16429\n4.0    15797\n3.9    15623\n2.8    15012\n2.9    14822\n3.8    14785\n3.4    13653\n2.7    12837\n4.9    10305\n4.8    10040\n2.5     9900\n4.6     9896\n4.5     9660\n2.6     9402\nNaN     9356\n4.7     9058\n5.0     8862\n3.3     8459\n3.0     8451\n3.2     7860\n2.4     7377\n3.1     7258\n2.1     7257\n2.3     6436\n1.0     5853\n2.2     4742\n1.8      249\n1.7      198\n1.6      132\n1.5      123\n1.4      103\n1.2       74\n1.1       74\n1.3       68\nName: condition, dtype: int64"
          },
          "execution_count": 165,
          "metadata": {},
          "output_type": "execute_result"
        }
      ],
      "source": [
        "# Показываем уникальные значения в столбце 'condition' и их количество\n",
        "condition_values = train_data['condition'].value_counts(dropna=False)\n",
        "condition_values.sort_values(ascending=False)\n"
      ],
      "metadata": {
        "ExecuteTime": {
          "start_time": "2023-08-18T21:33:36.426310Z",
          "end_time": "2023-08-18T21:33:36.475294Z"
        },
        "id": "73hJbFWSay50",
        "outputId": "e0db9fea-00df-445f-8376-71e11fc5d22b"
      }
    },
    {
      "cell_type": "markdown",
      "source": [
        "Цифры от 1.0 до 5.0 представляют состояние автомобиля, где 1.0 - наихудшее состояние, а 5.0 - наилучшее.\n",
        "NaN представляет пропущенные значения, и их количество составляет 9356."
      ],
      "metadata": {
        "collapsed": false,
        "id": "et0ScniFay50"
      }
    },
    {
      "cell_type": "markdown",
      "source": [
        "Заменим пропуски. ищем такаю же марку и модель у которой нет пропуска .\n",
        "Для каждой строки с пропущенным значением в \"Condition\":\n",
        "* Найдем такую же марку и модель без пропущенных значений в \"Condition\".\n",
        "* Определим разброс цен для этой марки и модели и разделим его на 5 частей.\n",
        "* В зависимости от значения \"sellingprice\" строки с пропущенным \"Condition\", назначим значение от 1 до 5."
      ],
      "metadata": {
        "collapsed": false,
        "id": "w-hHxs1say51"
      }
    },
    {
      "cell_type": "code",
      "execution_count": null,
      "outputs": [
        {
          "data": {
            "text/plain": "0"
          },
          "execution_count": 166,
          "metadata": {},
          "output_type": "execute_result"
        }
      ],
      "source": [
        "# Для оптимизации создадим словарь, который будет содержать информацию о разбросе цен для каждой комбинации Make и Model\n",
        "price_ranges = train_data.groupby(['make', 'model'])['sellingprice'].agg(['min', 'max'])\n",
        "price_ranges['range'] = (price_ranges['max'] - price_ranges['min']) / 5\n",
        "\n",
        "def optimized_fill_condition(row):\n",
        "    if pd.isnull(row['condition']):\n",
        "        min_price, price_range = price_ranges.loc[(row['make'], row['model']), ['min', 'range']]\n",
        "\n",
        "        # Если для данной комбинации Make и Model не найдено соответствующего разброса цен, возвращаем медианное значение \"Condition\"\n",
        "        if pd.isnull(min_price) or pd.isnull(price_range):\n",
        "            return train_data['condition'].median()\n",
        "\n",
        "        # Возвращаем значение \"Condition\" на основе \"sellingprice\"\n",
        "        if row['sellingprice'] <= min_price + price_range:\n",
        "            return 1\n",
        "        elif row['sellingprice'] <= min_price + 2 * price_range:\n",
        "            return 2\n",
        "        elif row['sellingprice'] <= min_price + 3 * price_range:\n",
        "            return 3\n",
        "        elif row['sellingprice'] <= min_price + 4 * price_range:\n",
        "            return 4\n",
        "        else:\n",
        "            return 5\n",
        "    else:\n",
        "        return row['condition']\n",
        "\n",
        "# Применяем оптимизированную функцию для заполнения пропущенных значений в \"Condition\"\n",
        "train_data['condition'] = train_data.apply(optimized_fill_condition, axis=1)\n",
        "\n",
        "# Проверяем количество пропущенных значений в столбце 'condition' после заполнения\n",
        "missing_condition_optimized = train_data['condition'].isnull().sum()\n",
        "missing_condition_optimized\n"
      ],
      "metadata": {
        "ExecuteTime": {
          "start_time": "2023-08-18T21:33:36.444032Z",
          "end_time": "2023-08-18T21:33:44.569088Z"
        },
        "id": "SwftnL6bay51",
        "outputId": "463bc2d8-436b-4b7d-8c47-4ce07c24c997"
      }
    },
    {
      "cell_type": "markdown",
      "source": [
        "Теперь в столбце \"Condition\" нет пропущенных значений.\n",
        "Успешно оптимизировали процесс и заполнили пропуски, основываясь на комбинации \"Make\", \"Model\" и \"sellingprice\"."
      ],
      "metadata": {
        "collapsed": false,
        "id": "f4a-Jbjtay51"
      }
    },
    {
      "cell_type": "markdown",
      "source": [
        "### Body (тип кузова)  тут  посмотрим на марку и модель  где нет  пропуска. модели и марки одного года выпуска имеют одинаковый кузов . заполняем пропуски"
      ],
      "metadata": {
        "collapsed": false,
        "id": "Gvs4NHEDay51"
      }
    },
    {
      "cell_type": "code",
      "execution_count": null,
      "outputs": [
        {
          "data": {
            "text/plain": "10386"
          },
          "execution_count": 167,
          "metadata": {},
          "output_type": "execute_result"
        }
      ],
      "source": [
        "# Проверяем количество пропущенных значений в столбце 'body' до заполнения\n",
        "missing_body = train_data['body'].isnull().sum()\n",
        "missing_body"
      ],
      "metadata": {
        "ExecuteTime": {
          "start_time": "2023-08-18T21:33:44.569088Z",
          "end_time": "2023-08-18T21:33:44.585116Z"
        },
        "id": "dIl0-DCSay52",
        "outputId": "db98fdab-297a-482e-fc3b-47b5088d1cff"
      }
    },
    {
      "cell_type": "code",
      "execution_count": null,
      "outputs": [
        {
          "data": {
            "text/plain": "10370"
          },
          "execution_count": 168,
          "metadata": {},
          "output_type": "execute_result"
        }
      ],
      "source": [
        "# Создаем словарь с типом кузова для каждой комбинации make, model и year\n",
        "body_dict = train_data.dropna(subset=['body']).groupby(['make', 'model', 'year'])['body'].first().to_dict()\n",
        "\n",
        "def fill_body(row):\n",
        "    if pd.isnull(row['body']):\n",
        "        return body_dict.get((row['make'], row['model'], row['year']))\n",
        "    else:\n",
        "        return row['body']\n",
        "\n",
        "# Применяем функцию для заполнения пропущенных значений в столбце 'body'\n",
        "train_data['body'] = train_data.apply(fill_body, axis=1)\n",
        "\n",
        "\n",
        "# Проверяем количество пропущенных значений в столбце 'body' после заполнения\n",
        "missing_body = train_data['body'].isnull().sum()\n",
        "missing_body\n"
      ],
      "metadata": {
        "ExecuteTime": {
          "start_time": "2023-08-18T21:33:44.585116Z",
          "end_time": "2023-08-18T21:33:47.780319Z"
        },
        "id": "n_ocgUIkay52",
        "outputId": "7d619aee-5ef0-407c-fd9a-ff05ac06b4b6"
      }
    },
    {
      "cell_type": "markdown",
      "source": [
        "После применения стратегии заполнения на основе марки, модели и года выпуска автомобиля, у нас осталось 10,370 пропущенных значений в столбце \"Body\".\n",
        " Это может быть из-за того, что для некоторых уникальных комбинаций марки, модели и года выпуска нет соответствующих записей в данных."
      ],
      "metadata": {
        "collapsed": false,
        "id": "whe-zGWxay52"
      }
    },
    {
      "cell_type": "markdown",
      "source": [
        "Уберем год. заполним  пропущенные значения в столбце \"Body\" на основе марки и модели автомобиля, не учитывая год выпуска."
      ],
      "metadata": {
        "collapsed": false,
        "id": "RZf-JukBay6B"
      }
    },
    {
      "cell_type": "code",
      "execution_count": null,
      "outputs": [
        {
          "data": {
            "text/plain": "10370"
          },
          "execution_count": 169,
          "metadata": {},
          "output_type": "execute_result"
        }
      ],
      "source": [
        "# Создаем словарь с типом кузова для каждой комбинации make и model\n",
        "body_dict_without_year = train_data.dropna(subset=['body']).groupby(['make', 'model'])['body'].first().to_dict()\n",
        "\n",
        "def fill_body_without_year(row):\n",
        "    if pd.isnull(row['body']):\n",
        "        return body_dict_without_year.get((row['make'], row['model']))\n",
        "    else:\n",
        "        return row['body']\n",
        "\n",
        "# Применяем функцию для заполнения пропущенных значений в столбце 'body' без учета года\n",
        "train_data['body'] = train_data.apply(fill_body_without_year, axis=1)\n",
        "\n",
        "# Проверяем количество пропущенных значений в столбце 'body' после заполнения\n",
        "missing_body_without_year = train_data['body'].isnull().sum()\n",
        "missing_body_without_year\n"
      ],
      "metadata": {
        "ExecuteTime": {
          "start_time": "2023-08-18T21:33:47.780319Z",
          "end_time": "2023-08-18T21:33:51.189914Z"
        },
        "id": "hIC9v4Ghay6B",
        "outputId": "e117ea8a-ec1a-44de-80bd-8861b4a10663"
      }
    },
    {
      "cell_type": "markdown",
      "source": [
        "Body (тип кузова) замени пустые на   Unknown"
      ],
      "metadata": {
        "collapsed": false,
        "id": "xlDtgHwbay6C"
      }
    },
    {
      "cell_type": "code",
      "execution_count": null,
      "outputs": [
        {
          "data": {
            "text/plain": "0"
          },
          "execution_count": 170,
          "metadata": {},
          "output_type": "execute_result"
        }
      ],
      "source": [
        "# Заполняем пропущенные значения в столбце 'body' значением \"Unknown\"\n",
        "train_data['body'].fillna('Unknown', inplace=True)\n",
        "\n",
        "# Проверяем количество пропущенных значений в столбце 'body' после заполнения\n",
        "missing_body = train_data['body'].isnull().sum()\n",
        "missing_body\n"
      ],
      "metadata": {
        "ExecuteTime": {
          "start_time": "2023-08-18T21:33:51.205566Z",
          "end_time": "2023-08-18T21:33:51.259360Z"
        },
        "id": "ZD6CdxfJay6C",
        "outputId": "556451f2-cc4f-4a4a-8c0c-d8cb2b6c3c6a"
      }
    },
    {
      "cell_type": "markdown",
      "source": [],
      "metadata": {
        "collapsed": false,
        "id": "J8hOm5Nzay6C"
      }
    },
    {
      "cell_type": "markdown",
      "source": [
        "Transmission (тип трансмиссии) тут  посмотрим на марку и модель  где нет  пропуска. модели и марки одного года выпуска имеют одинаковую трансмиссию . заполняем пропуски"
      ],
      "metadata": {
        "collapsed": false,
        "id": "NZz-TDOHay6C"
      }
    },
    {
      "cell_type": "code",
      "execution_count": null,
      "outputs": [
        {
          "data": {
            "text/plain": "   year       make         model      trim      body transmission  \\\n0  2005   Cadillac           CTS      Base     Sedan    automatic   \n1  2014        GMC  Savana Cargo      2500       Van          NaN   \n2  2013     Nissan        Murano         S       SUV    automatic   \n3  2013  Chevrolet        Impala  LS Fleet     Sedan    automatic   \n4  2013     Nissan         Titan        SV  Crew Cab    automatic   \n\n                 vin state  condition  odometer   color interior  \\\n0  1g6dp567450124779    ca        2.7  116970.0  silver    black   \n1  1gtw7fca7e1902207    pa        4.4    6286.0   white     gray   \n2  jn8az1mw6dw303497    oh        4.6   11831.0    gray    black   \n3  2g1wf5e34d1160703    fl        2.3   57105.0  silver    black   \n4  1n6aa0ec3dn301209    tn        2.9   31083.0   black    black   \n\n                                             seller  \\\n0                            lexus of stevens creek   \n1                                            u-haul   \n2                                nissan-infiniti lt   \n3  onemain rem/auto club of miami inc dba north dad   \n4                         nissan north america inc.   \n\n                                  saledate  \n0  Wed Jan 14 2015 04:30:00 GMT-0800 (PST)  \n1  Fri Feb 27 2015 01:00:00 GMT-0800 (PST)  \n2  Tue Feb 24 2015 01:30:00 GMT-0800 (PST)  \n3  Fri Mar 06 2015 02:00:00 GMT-0800 (PST)  \n4  Wed Jun 03 2015 03:30:00 GMT-0700 (PDT)  ",
            "text/html": "<div>\n<style scoped>\n    .dataframe tbody tr th:only-of-type {\n        vertical-align: middle;\n    }\n\n    .dataframe tbody tr th {\n        vertical-align: top;\n    }\n\n    .dataframe thead th {\n        text-align: right;\n    }\n</style>\n<table border=\"1\" class=\"dataframe\">\n  <thead>\n    <tr style=\"text-align: right;\">\n      <th></th>\n      <th>year</th>\n      <th>make</th>\n      <th>model</th>\n      <th>trim</th>\n      <th>body</th>\n      <th>transmission</th>\n      <th>vin</th>\n      <th>state</th>\n      <th>condition</th>\n      <th>odometer</th>\n      <th>color</th>\n      <th>interior</th>\n      <th>seller</th>\n      <th>saledate</th>\n    </tr>\n  </thead>\n  <tbody>\n    <tr>\n      <th>0</th>\n      <td>2005</td>\n      <td>Cadillac</td>\n      <td>CTS</td>\n      <td>Base</td>\n      <td>Sedan</td>\n      <td>automatic</td>\n      <td>1g6dp567450124779</td>\n      <td>ca</td>\n      <td>2.7</td>\n      <td>116970.0</td>\n      <td>silver</td>\n      <td>black</td>\n      <td>lexus of stevens creek</td>\n      <td>Wed Jan 14 2015 04:30:00 GMT-0800 (PST)</td>\n    </tr>\n    <tr>\n      <th>1</th>\n      <td>2014</td>\n      <td>GMC</td>\n      <td>Savana Cargo</td>\n      <td>2500</td>\n      <td>Van</td>\n      <td>NaN</td>\n      <td>1gtw7fca7e1902207</td>\n      <td>pa</td>\n      <td>4.4</td>\n      <td>6286.0</td>\n      <td>white</td>\n      <td>gray</td>\n      <td>u-haul</td>\n      <td>Fri Feb 27 2015 01:00:00 GMT-0800 (PST)</td>\n    </tr>\n    <tr>\n      <th>2</th>\n      <td>2013</td>\n      <td>Nissan</td>\n      <td>Murano</td>\n      <td>S</td>\n      <td>SUV</td>\n      <td>automatic</td>\n      <td>jn8az1mw6dw303497</td>\n      <td>oh</td>\n      <td>4.6</td>\n      <td>11831.0</td>\n      <td>gray</td>\n      <td>black</td>\n      <td>nissan-infiniti lt</td>\n      <td>Tue Feb 24 2015 01:30:00 GMT-0800 (PST)</td>\n    </tr>\n    <tr>\n      <th>3</th>\n      <td>2013</td>\n      <td>Chevrolet</td>\n      <td>Impala</td>\n      <td>LS Fleet</td>\n      <td>Sedan</td>\n      <td>automatic</td>\n      <td>2g1wf5e34d1160703</td>\n      <td>fl</td>\n      <td>2.3</td>\n      <td>57105.0</td>\n      <td>silver</td>\n      <td>black</td>\n      <td>onemain rem/auto club of miami inc dba north dad</td>\n      <td>Fri Mar 06 2015 02:00:00 GMT-0800 (PST)</td>\n    </tr>\n    <tr>\n      <th>4</th>\n      <td>2013</td>\n      <td>Nissan</td>\n      <td>Titan</td>\n      <td>SV</td>\n      <td>Crew Cab</td>\n      <td>automatic</td>\n      <td>1n6aa0ec3dn301209</td>\n      <td>tn</td>\n      <td>2.9</td>\n      <td>31083.0</td>\n      <td>black</td>\n      <td>black</td>\n      <td>nissan north america inc.</td>\n      <td>Wed Jun 03 2015 03:30:00 GMT-0700 (PDT)</td>\n    </tr>\n  </tbody>\n</table>\n</div>"
          },
          "execution_count": 171,
          "metadata": {},
          "output_type": "execute_result"
        }
      ],
      "source": [
        "test_data.head()"
      ],
      "metadata": {
        "ExecuteTime": {
          "start_time": "2023-08-18T21:33:51.225965Z",
          "end_time": "2023-08-18T21:33:51.259360Z"
        },
        "id": "SWj3Q54nay6D",
        "outputId": "7ddaefb9-ad63-48cb-ad7a-0e0be7b8f248"
      }
    },
    {
      "cell_type": "code",
      "execution_count": null,
      "outputs": [
        {
          "data": {
            "text/plain": "182"
          },
          "execution_count": 172,
          "metadata": {},
          "output_type": "execute_result"
        }
      ],
      "source": [
        "# Создаем словарь с типом трансмиссии для каждой комбинации make, model и year\n",
        "transmission_dict = train_data.dropna(subset=['transmission']).groupby(['make', 'model', 'year'])['transmission'].first().to_dict()\n",
        "\n",
        "def fill_transmission(row):\n",
        "    if pd.isnull(row['transmission']):\n",
        "        return transmission_dict.get((row['make'], row['model'], row['year']))\n",
        "    else:\n",
        "        return row['transmission']\n",
        "\n",
        "# Применяем функцию для заполнения пропущенных значений в столбце 'transmission'\n",
        "train_data['transmission'] = train_data.apply(fill_transmission, axis=1)\n",
        "# Проверяем количество пропущенных значений в столбце 'transmission' после заполнения\n",
        "missing_transmission = train_data['transmission'].isnull().sum()\n",
        "missing_transmission\n"
      ],
      "metadata": {
        "ExecuteTime": {
          "start_time": "2023-08-18T21:33:51.243735Z",
          "end_time": "2023-08-18T21:33:55.484309Z"
        },
        "id": "T6Wlk2Jday6D",
        "outputId": "9eda8892-fd1e-478d-e1dd-366d6245102e"
      }
    },
    {
      "cell_type": "code",
      "execution_count": null,
      "outputs": [
        {
          "data": {
            "text/plain": "   year       make         model      trim      body transmission  \\\n0  2005   Cadillac           CTS      Base     Sedan    automatic   \n1  2014        GMC  Savana Cargo      2500       Van          NaN   \n2  2013     Nissan        Murano         S       SUV    automatic   \n3  2013  Chevrolet        Impala  LS Fleet     Sedan    automatic   \n4  2013     Nissan         Titan        SV  Crew Cab    automatic   \n\n                 vin state  condition  odometer   color interior  \\\n0  1g6dp567450124779    ca        2.7  116970.0  silver    black   \n1  1gtw7fca7e1902207    pa        4.4    6286.0   white     gray   \n2  jn8az1mw6dw303497    oh        4.6   11831.0    gray    black   \n3  2g1wf5e34d1160703    fl        2.3   57105.0  silver    black   \n4  1n6aa0ec3dn301209    tn        2.9   31083.0   black    black   \n\n                                             seller  \\\n0                            lexus of stevens creek   \n1                                            u-haul   \n2                                nissan-infiniti lt   \n3  onemain rem/auto club of miami inc dba north dad   \n4                         nissan north america inc.   \n\n                                  saledate  \n0  Wed Jan 14 2015 04:30:00 GMT-0800 (PST)  \n1  Fri Feb 27 2015 01:00:00 GMT-0800 (PST)  \n2  Tue Feb 24 2015 01:30:00 GMT-0800 (PST)  \n3  Fri Mar 06 2015 02:00:00 GMT-0800 (PST)  \n4  Wed Jun 03 2015 03:30:00 GMT-0700 (PDT)  ",
            "text/html": "<div>\n<style scoped>\n    .dataframe tbody tr th:only-of-type {\n        vertical-align: middle;\n    }\n\n    .dataframe tbody tr th {\n        vertical-align: top;\n    }\n\n    .dataframe thead th {\n        text-align: right;\n    }\n</style>\n<table border=\"1\" class=\"dataframe\">\n  <thead>\n    <tr style=\"text-align: right;\">\n      <th></th>\n      <th>year</th>\n      <th>make</th>\n      <th>model</th>\n      <th>trim</th>\n      <th>body</th>\n      <th>transmission</th>\n      <th>vin</th>\n      <th>state</th>\n      <th>condition</th>\n      <th>odometer</th>\n      <th>color</th>\n      <th>interior</th>\n      <th>seller</th>\n      <th>saledate</th>\n    </tr>\n  </thead>\n  <tbody>\n    <tr>\n      <th>0</th>\n      <td>2005</td>\n      <td>Cadillac</td>\n      <td>CTS</td>\n      <td>Base</td>\n      <td>Sedan</td>\n      <td>automatic</td>\n      <td>1g6dp567450124779</td>\n      <td>ca</td>\n      <td>2.7</td>\n      <td>116970.0</td>\n      <td>silver</td>\n      <td>black</td>\n      <td>lexus of stevens creek</td>\n      <td>Wed Jan 14 2015 04:30:00 GMT-0800 (PST)</td>\n    </tr>\n    <tr>\n      <th>1</th>\n      <td>2014</td>\n      <td>GMC</td>\n      <td>Savana Cargo</td>\n      <td>2500</td>\n      <td>Van</td>\n      <td>NaN</td>\n      <td>1gtw7fca7e1902207</td>\n      <td>pa</td>\n      <td>4.4</td>\n      <td>6286.0</td>\n      <td>white</td>\n      <td>gray</td>\n      <td>u-haul</td>\n      <td>Fri Feb 27 2015 01:00:00 GMT-0800 (PST)</td>\n    </tr>\n    <tr>\n      <th>2</th>\n      <td>2013</td>\n      <td>Nissan</td>\n      <td>Murano</td>\n      <td>S</td>\n      <td>SUV</td>\n      <td>automatic</td>\n      <td>jn8az1mw6dw303497</td>\n      <td>oh</td>\n      <td>4.6</td>\n      <td>11831.0</td>\n      <td>gray</td>\n      <td>black</td>\n      <td>nissan-infiniti lt</td>\n      <td>Tue Feb 24 2015 01:30:00 GMT-0800 (PST)</td>\n    </tr>\n    <tr>\n      <th>3</th>\n      <td>2013</td>\n      <td>Chevrolet</td>\n      <td>Impala</td>\n      <td>LS Fleet</td>\n      <td>Sedan</td>\n      <td>automatic</td>\n      <td>2g1wf5e34d1160703</td>\n      <td>fl</td>\n      <td>2.3</td>\n      <td>57105.0</td>\n      <td>silver</td>\n      <td>black</td>\n      <td>onemain rem/auto club of miami inc dba north dad</td>\n      <td>Fri Mar 06 2015 02:00:00 GMT-0800 (PST)</td>\n    </tr>\n    <tr>\n      <th>4</th>\n      <td>2013</td>\n      <td>Nissan</td>\n      <td>Titan</td>\n      <td>SV</td>\n      <td>Crew Cab</td>\n      <td>automatic</td>\n      <td>1n6aa0ec3dn301209</td>\n      <td>tn</td>\n      <td>2.9</td>\n      <td>31083.0</td>\n      <td>black</td>\n      <td>black</td>\n      <td>nissan north america inc.</td>\n      <td>Wed Jun 03 2015 03:30:00 GMT-0700 (PDT)</td>\n    </tr>\n  </tbody>\n</table>\n</div>"
          },
          "execution_count": 173,
          "metadata": {},
          "output_type": "execute_result"
        }
      ],
      "source": [
        "train_data.head()\n",
        "test_data.head()"
      ],
      "metadata": {
        "ExecuteTime": {
          "start_time": "2023-08-18T21:33:55.484309Z",
          "end_time": "2023-08-18T21:33:55.498470Z"
        },
        "id": "EAfvFCKLay6D",
        "outputId": "17136126-11e9-4a20-d2b6-2d3b1a95bbdf"
      }
    },
    {
      "cell_type": "markdown",
      "source": [
        "После заполнения пропущенных значений в столбце \"Transmission\" на основе марки, модели и года выпуска автомобиля у нас осталось всего 182 пропущенных значения."
      ],
      "metadata": {
        "collapsed": false,
        "id": "N31GE3WQay6E"
      }
    },
    {
      "cell_type": "code",
      "execution_count": null,
      "outputs": [
        {
          "data": {
            "text/plain": "117"
          },
          "execution_count": 174,
          "metadata": {},
          "output_type": "execute_result"
        }
      ],
      "source": [
        "# Создаем словарь с типом трансмиссии для каждой комбинации make, model и year\n",
        "transmission_dict1 = test_data.dropna(subset=['transmission']).groupby(['make', 'model', 'year'])['transmission'].first().to_dict()\n",
        "\n",
        "def fill_transmission(row):\n",
        "    if pd.isnull(row['transmission']):\n",
        "        return transmission_dict1.get((row['make'], row['model'], row['year']))\n",
        "    else:\n",
        "        return row['transmission']\n",
        "\n",
        "# Применяем функцию для заполнения пропущенных значений в столбце 'transmission'\n",
        "test_data['transmission'] = test_data.apply(fill_transmission, axis=1)\n",
        "# Проверяем количество пропущенных значений в столбце 'transmission' после заполнения\n",
        "missing_transmission = test_data['transmission'].isnull().sum()\n",
        "missing_transmission"
      ],
      "metadata": {
        "ExecuteTime": {
          "start_time": "2023-08-18T21:33:55.498470Z",
          "end_time": "2023-08-18T21:33:56.696001Z"
        },
        "id": "w8crCI0gay6E",
        "outputId": "e37434a2-6e43-4518-ca97-b6d3c4213d1c"
      }
    },
    {
      "cell_type": "code",
      "execution_count": null,
      "outputs": [],
      "source": [
        "# Замена пропусков на 0 во всех колонках, кроме 'transmission'\n",
        "test_data['transmission']= test_data['transmission'].fillna(0)\n"
      ],
      "metadata": {
        "ExecuteTime": {
          "start_time": "2023-08-18T21:33:56.667852Z",
          "end_time": "2023-08-18T21:33:56.696001Z"
        },
        "id": "eNazFMVEay6E"
      }
    },
    {
      "cell_type": "code",
      "execution_count": null,
      "outputs": [
        {
          "data": {
            "text/plain": "0"
          },
          "execution_count": 176,
          "metadata": {},
          "output_type": "execute_result"
        }
      ],
      "source": [
        "# Удаляем строки с пропущенными значениями в столбце 'transmission'\n",
        "train_data.dropna(subset=['transmission'], inplace=True)\n",
        "\n",
        "# Проверяем количество пропущенных значений в столбце 'transmission' после удаления\n",
        "missing_transmission = train_data['transmission'].isnull().sum()\n",
        "missing_transmission\n"
      ],
      "metadata": {
        "ExecuteTime": {
          "start_time": "2023-08-18T21:33:56.680374Z",
          "end_time": "2023-08-18T21:33:56.874743Z"
        },
        "id": "DVvFG6T7ay6F",
        "outputId": "86181261-9369-46f1-8f3d-d79a5c506cc5"
      }
    },
    {
      "cell_type": "code",
      "execution_count": null,
      "outputs": [
        {
          "data": {
            "text/plain": "   year       make         model      trim      body transmission  \\\n0  2005   Cadillac           CTS      Base     Sedan    automatic   \n1  2014        GMC  Savana Cargo      2500       Van    automatic   \n2  2013     Nissan        Murano         S       SUV    automatic   \n3  2013  Chevrolet        Impala  LS Fleet     Sedan    automatic   \n4  2013     Nissan         Titan        SV  Crew Cab    automatic   \n\n                 vin state  condition  odometer   color interior  \\\n0  1g6dp567450124779    ca        2.7  116970.0  silver    black   \n1  1gtw7fca7e1902207    pa        4.4    6286.0   white     gray   \n2  jn8az1mw6dw303497    oh        4.6   11831.0    gray    black   \n3  2g1wf5e34d1160703    fl        2.3   57105.0  silver    black   \n4  1n6aa0ec3dn301209    tn        2.9   31083.0   black    black   \n\n                                             seller  \\\n0                            lexus of stevens creek   \n1                                            u-haul   \n2                                nissan-infiniti lt   \n3  onemain rem/auto club of miami inc dba north dad   \n4                         nissan north america inc.   \n\n                                  saledate  \n0  Wed Jan 14 2015 04:30:00 GMT-0800 (PST)  \n1  Fri Feb 27 2015 01:00:00 GMT-0800 (PST)  \n2  Tue Feb 24 2015 01:30:00 GMT-0800 (PST)  \n3  Fri Mar 06 2015 02:00:00 GMT-0800 (PST)  \n4  Wed Jun 03 2015 03:30:00 GMT-0700 (PDT)  ",
            "text/html": "<div>\n<style scoped>\n    .dataframe tbody tr th:only-of-type {\n        vertical-align: middle;\n    }\n\n    .dataframe tbody tr th {\n        vertical-align: top;\n    }\n\n    .dataframe thead th {\n        text-align: right;\n    }\n</style>\n<table border=\"1\" class=\"dataframe\">\n  <thead>\n    <tr style=\"text-align: right;\">\n      <th></th>\n      <th>year</th>\n      <th>make</th>\n      <th>model</th>\n      <th>trim</th>\n      <th>body</th>\n      <th>transmission</th>\n      <th>vin</th>\n      <th>state</th>\n      <th>condition</th>\n      <th>odometer</th>\n      <th>color</th>\n      <th>interior</th>\n      <th>seller</th>\n      <th>saledate</th>\n    </tr>\n  </thead>\n  <tbody>\n    <tr>\n      <th>0</th>\n      <td>2005</td>\n      <td>Cadillac</td>\n      <td>CTS</td>\n      <td>Base</td>\n      <td>Sedan</td>\n      <td>automatic</td>\n      <td>1g6dp567450124779</td>\n      <td>ca</td>\n      <td>2.7</td>\n      <td>116970.0</td>\n      <td>silver</td>\n      <td>black</td>\n      <td>lexus of stevens creek</td>\n      <td>Wed Jan 14 2015 04:30:00 GMT-0800 (PST)</td>\n    </tr>\n    <tr>\n      <th>1</th>\n      <td>2014</td>\n      <td>GMC</td>\n      <td>Savana Cargo</td>\n      <td>2500</td>\n      <td>Van</td>\n      <td>automatic</td>\n      <td>1gtw7fca7e1902207</td>\n      <td>pa</td>\n      <td>4.4</td>\n      <td>6286.0</td>\n      <td>white</td>\n      <td>gray</td>\n      <td>u-haul</td>\n      <td>Fri Feb 27 2015 01:00:00 GMT-0800 (PST)</td>\n    </tr>\n    <tr>\n      <th>2</th>\n      <td>2013</td>\n      <td>Nissan</td>\n      <td>Murano</td>\n      <td>S</td>\n      <td>SUV</td>\n      <td>automatic</td>\n      <td>jn8az1mw6dw303497</td>\n      <td>oh</td>\n      <td>4.6</td>\n      <td>11831.0</td>\n      <td>gray</td>\n      <td>black</td>\n      <td>nissan-infiniti lt</td>\n      <td>Tue Feb 24 2015 01:30:00 GMT-0800 (PST)</td>\n    </tr>\n    <tr>\n      <th>3</th>\n      <td>2013</td>\n      <td>Chevrolet</td>\n      <td>Impala</td>\n      <td>LS Fleet</td>\n      <td>Sedan</td>\n      <td>automatic</td>\n      <td>2g1wf5e34d1160703</td>\n      <td>fl</td>\n      <td>2.3</td>\n      <td>57105.0</td>\n      <td>silver</td>\n      <td>black</td>\n      <td>onemain rem/auto club of miami inc dba north dad</td>\n      <td>Fri Mar 06 2015 02:00:00 GMT-0800 (PST)</td>\n    </tr>\n    <tr>\n      <th>4</th>\n      <td>2013</td>\n      <td>Nissan</td>\n      <td>Titan</td>\n      <td>SV</td>\n      <td>Crew Cab</td>\n      <td>automatic</td>\n      <td>1n6aa0ec3dn301209</td>\n      <td>tn</td>\n      <td>2.9</td>\n      <td>31083.0</td>\n      <td>black</td>\n      <td>black</td>\n      <td>nissan north america inc.</td>\n      <td>Wed Jun 03 2015 03:30:00 GMT-0700 (PDT)</td>\n    </tr>\n  </tbody>\n</table>\n</div>"
          },
          "execution_count": 177,
          "metadata": {},
          "output_type": "execute_result"
        }
      ],
      "source": [
        "test_data.head()"
      ],
      "metadata": {
        "ExecuteTime": {
          "start_time": "2023-08-18T21:33:56.874743Z",
          "end_time": "2023-08-18T21:33:56.887717Z"
        },
        "id": "-4liOV8May6F",
        "outputId": "6fcca077-0431-4737-cca1-493ca8aa26d2"
      }
    },
    {
      "cell_type": "code",
      "execution_count": null,
      "outputs": [
        {
          "data": {
            "text/plain": "   year    make   model    trim   body transmission                vin state  \\\n0  2011    Ford    Edge     SEL    suv    automatic  2fmdk3jc4bba41556    md   \n1  2014    Ford  Fusion      SE  Sedan    automatic  3fa6p0h75er208976    mo   \n2  2012  Nissan  Sentra  2.0 SL  sedan    automatic  3n1ab6ap4cl698412    nj   \n3  2003  HUMMER      H2    Base    suv    automatic  5grgn23u93h101360    tx   \n4  2007    Ford  Fusion     SEL  Sedan    automatic  3fahp08z17r268380    md   \n\n   condition  odometer  color interior                      seller  \\\n0        4.2  111041.0  black    black          santander consumer   \n1        3.5   31034.0  black    black       ars/avis budget group   \n2        2.2   35619.0  black    black          nissan-infiniti lt   \n3        2.8  131301.0   gold    beige  wichita falls ford lin inc   \n4        2.0  127709.0  black    black                purple heart   \n\n   sellingprice                                 saledate  \n0         12500  Tue Jun 02 2015 02:30:00 GMT-0700 (PDT)  \n1         14500  Wed Feb 25 2015 02:00:00 GMT-0800 (PST)  \n2          9100  Wed Jun 10 2015 02:30:00 GMT-0700 (PDT)  \n3         13300  Wed Jun 17 2015 03:00:00 GMT-0700 (PDT)  \n4          1300  Tue Feb 03 2015 04:00:00 GMT-0800 (PST)  ",
            "text/html": "<div>\n<style scoped>\n    .dataframe tbody tr th:only-of-type {\n        vertical-align: middle;\n    }\n\n    .dataframe tbody tr th {\n        vertical-align: top;\n    }\n\n    .dataframe thead th {\n        text-align: right;\n    }\n</style>\n<table border=\"1\" class=\"dataframe\">\n  <thead>\n    <tr style=\"text-align: right;\">\n      <th></th>\n      <th>year</th>\n      <th>make</th>\n      <th>model</th>\n      <th>trim</th>\n      <th>body</th>\n      <th>transmission</th>\n      <th>vin</th>\n      <th>state</th>\n      <th>condition</th>\n      <th>odometer</th>\n      <th>color</th>\n      <th>interior</th>\n      <th>seller</th>\n      <th>sellingprice</th>\n      <th>saledate</th>\n    </tr>\n  </thead>\n  <tbody>\n    <tr>\n      <th>0</th>\n      <td>2011</td>\n      <td>Ford</td>\n      <td>Edge</td>\n      <td>SEL</td>\n      <td>suv</td>\n      <td>automatic</td>\n      <td>2fmdk3jc4bba41556</td>\n      <td>md</td>\n      <td>4.2</td>\n      <td>111041.0</td>\n      <td>black</td>\n      <td>black</td>\n      <td>santander consumer</td>\n      <td>12500</td>\n      <td>Tue Jun 02 2015 02:30:00 GMT-0700 (PDT)</td>\n    </tr>\n    <tr>\n      <th>1</th>\n      <td>2014</td>\n      <td>Ford</td>\n      <td>Fusion</td>\n      <td>SE</td>\n      <td>Sedan</td>\n      <td>automatic</td>\n      <td>3fa6p0h75er208976</td>\n      <td>mo</td>\n      <td>3.5</td>\n      <td>31034.0</td>\n      <td>black</td>\n      <td>black</td>\n      <td>ars/avis budget group</td>\n      <td>14500</td>\n      <td>Wed Feb 25 2015 02:00:00 GMT-0800 (PST)</td>\n    </tr>\n    <tr>\n      <th>2</th>\n      <td>2012</td>\n      <td>Nissan</td>\n      <td>Sentra</td>\n      <td>2.0 SL</td>\n      <td>sedan</td>\n      <td>automatic</td>\n      <td>3n1ab6ap4cl698412</td>\n      <td>nj</td>\n      <td>2.2</td>\n      <td>35619.0</td>\n      <td>black</td>\n      <td>black</td>\n      <td>nissan-infiniti lt</td>\n      <td>9100</td>\n      <td>Wed Jun 10 2015 02:30:00 GMT-0700 (PDT)</td>\n    </tr>\n    <tr>\n      <th>3</th>\n      <td>2003</td>\n      <td>HUMMER</td>\n      <td>H2</td>\n      <td>Base</td>\n      <td>suv</td>\n      <td>automatic</td>\n      <td>5grgn23u93h101360</td>\n      <td>tx</td>\n      <td>2.8</td>\n      <td>131301.0</td>\n      <td>gold</td>\n      <td>beige</td>\n      <td>wichita falls ford lin inc</td>\n      <td>13300</td>\n      <td>Wed Jun 17 2015 03:00:00 GMT-0700 (PDT)</td>\n    </tr>\n    <tr>\n      <th>4</th>\n      <td>2007</td>\n      <td>Ford</td>\n      <td>Fusion</td>\n      <td>SEL</td>\n      <td>Sedan</td>\n      <td>automatic</td>\n      <td>3fahp08z17r268380</td>\n      <td>md</td>\n      <td>2.0</td>\n      <td>127709.0</td>\n      <td>black</td>\n      <td>black</td>\n      <td>purple heart</td>\n      <td>1300</td>\n      <td>Tue Feb 03 2015 04:00:00 GMT-0800 (PST)</td>\n    </tr>\n  </tbody>\n</table>\n</div>"
          },
          "execution_count": 178,
          "metadata": {},
          "output_type": "execute_result"
        }
      ],
      "source": [
        "train_data.head()"
      ],
      "metadata": {
        "ExecuteTime": {
          "start_time": "2023-08-18T21:33:56.887717Z",
          "end_time": "2023-08-18T21:33:56.975373Z"
        },
        "id": "TtGmH4Csay6F",
        "outputId": "418ee90d-f493-4604-a5cf-39cac3a2a473"
      }
    },
    {
      "cell_type": "code",
      "execution_count": null,
      "outputs": [
        {
          "data": {
            "text/plain": "439985"
          },
          "execution_count": 179,
          "metadata": {},
          "output_type": "execute_result"
        }
      ],
      "source": [
        "len(train_data)"
      ],
      "metadata": {
        "ExecuteTime": {
          "start_time": "2023-08-18T21:33:56.902978Z",
          "end_time": "2023-08-18T21:33:56.975373Z"
        },
        "id": "tuGPhAbkay6G",
        "outputId": "1c50345e-cd61-48e1-841e-d65c76e67501"
      }
    },
    {
      "cell_type": "code",
      "execution_count": null,
      "outputs": [
        {
          "data": {
            "text/plain": "Series([], dtype: int64)"
          },
          "execution_count": 180,
          "metadata": {},
          "output_type": "execute_result"
        }
      ],
      "source": [
        "# Проверяем столбцы с пропущенными значениями в тренировочном датасете\n",
        "remaining_missing = train_data.isnull().sum()\n",
        "remaining_missing = remaining_missing[remaining_missing > 0]\n",
        "remaining_missing\n"
      ],
      "metadata": {
        "ExecuteTime": {
          "start_time": "2023-08-18T21:33:56.912858Z",
          "end_time": "2023-08-18T21:33:57.404963Z"
        },
        "id": "cr4I4DaVay6G",
        "outputId": "f398e17d-b727-48c3-fea9-acae2f8f42d4"
      }
    },
    {
      "cell_type": "markdown",
      "source": [
        "посмотрим на распределение  sellingprice"
      ],
      "metadata": {
        "collapsed": false,
        "id": "qwwIaBv5ay6G"
      }
    },
    {
      "cell_type": "code",
      "execution_count": null,
      "outputs": [
        {
          "data": {
            "text/plain": "<Figure size 1200x600 with 1 Axes>",
            "image/png": "[encoded data removed]"
          },
          "metadata": {},
          "output_type": "display_data"
        }
      ],
      "source": [
        "# Визуализация распределения 'sellingprice'\n",
        "plt.figure(figsize=(12, 6))\n",
        "sns.histplot(train_data['sellingprice'], bins=1000, kde=True)\n",
        "plt.title('Распределение цены продажи (sellingprice)')\n",
        "plt.xlabel('Цена продажи')\n",
        "plt.ylabel('Количество автомобилей')\n",
        "plt.grid(True)\n",
        "plt.show()\n"
      ],
      "metadata": {
        "ExecuteTime": {
          "start_time": "2023-08-18T21:33:57.404963Z",
          "end_time": "2023-08-18T21:34:00.910054Z"
        },
        "id": "sWnLM_28ay6G",
        "outputId": "8ee61f64-f5a7-4275-d9e7-e747b447cfa9"
      }
    },
    {
      "cell_type": "code",
      "execution_count": null,
      "outputs": [
        {
          "data": {
            "text/plain": "<Figure size 1200x600 with 1 Axes>",
            "image/png": "[encoded data removed]"
          },
          "metadata": {},
          "output_type": "display_data"
        }
      ],
      "source": [
        "# Визуализация ящика с усами для 'sellingprice'\n",
        "plt.figure(figsize=(12, 6))\n",
        "plt.boxplot(train_data['sellingprice'], vert=False)\n",
        "plt.title('Ящик с усами для цены продажи (sellingprice)')\n",
        "plt.xlabel('Цена продажи')\n",
        "plt.grid(True)\n",
        "plt.show()\n"
      ],
      "metadata": {
        "ExecuteTime": {
          "start_time": "2023-08-18T21:34:00.911062Z",
          "end_time": "2023-08-18T21:34:01.072652Z"
        },
        "id": "r6P9YHXEay6H",
        "outputId": "63453803-c5f1-4b98-e702-611af805cdca"
      }
    },
    {
      "cell_type": "markdown",
      "source": [
        "На графике представлен \"ящик с усами\" для стоимости продажи (sellingprice).\n",
        "\n",
        "* Медианное значение (центральная линия внутри ящика) показывает, что средняя цена продажи автомобилей находится в районе 10,000-15,000.\n",
        "* Нижний и верхний квартили (нижняя и верхняя границы ящика) показывают, что большинство автомобилей продается по цене от примерно 5,000 до примерно 20,000.\n",
        "* Усы графика показывают распределение значений вне этого интерквартильного диапазона. Значения за пределами усов можно рассматривать как выбросы. В нашем случае есть много автомобилей, которые продавались по цене выше обычного диапазона.\n",
        "* Этот график подтверждает наше предыдущее наблюдение о том, что большинство автомобилей имеют цену в нижнем и среднем диапазоне, но также существует меньшинство автомобилей с высокой стоимостью."
      ],
      "metadata": {
        "collapsed": false,
        "id": "bF2M06ypay6H"
      }
    },
    {
      "cell_type": "markdown",
      "source": [
        "годы выпуска , графически"
      ],
      "metadata": {
        "collapsed": false,
        "id": "DfN4vSVBay6H"
      }
    },
    {
      "cell_type": "code",
      "execution_count": null,
      "outputs": [
        {
          "data": {
            "text/plain": "<Figure size 1400x600 with 1 Axes>",
            "image/png": "[encoded data removed]"
          },
          "metadata": {},
          "output_type": "display_data"
        }
      ],
      "source": [
        "# Визуализация распределения года выпуска автомобилей\n",
        "plt.figure(figsize=(14, 6))\n",
        "sns.countplot(data=train_data, x='year', order=train_data['year'].value_counts().index)\n",
        "plt.title('Распределение автомобилей по годам выпуска')\n",
        "plt.xlabel('Год выпуска')\n",
        "plt.ylabel('Количество автомобилей')\n",
        "plt.xticks(rotation=45)\n",
        "plt.grid(axis='y')\n",
        "plt.show()\n"
      ],
      "metadata": {
        "ExecuteTime": {
          "start_time": "2023-08-18T21:34:01.072652Z",
          "end_time": "2023-08-18T21:34:01.554583Z"
        },
        "id": "9JRBjPjcay6I",
        "outputId": "4a50aed3-d431-480e-db91-8f64253f206d"
      }
    },
    {
      "cell_type": "markdown",
      "source": [
        "На графике представлено распределение автомобилей по годам выпуска.\n",
        "\n",
        "* Можно заметить, что большинство автомобилей в датасете относятся к недавним годам выпуска, примерно начиная с 2000 года.\n",
        "* Пик количества автомобилей приходится на 2015-2019 годы.\n",
        "* Это может быть связано с тем, что автомобили более новых годов выпуска чаще продаются на вторичном рынке, чем старые модели."
      ],
      "metadata": {
        "collapsed": false,
        "id": "0Cl9rvp0ay6I"
      }
    },
    {
      "cell_type": "code",
      "execution_count": null,
      "outputs": [
        {
          "data": {
            "text/plain": "<Figure size 1200x600 with 1 Axes>",
            "image/png": "[encoded data removed]"
          },
          "metadata": {},
          "output_type": "display_data"
        }
      ],
      "source": [
        "# Визуализация ящика с усами для года выпуска автомобилей\n",
        "plt.figure(figsize=(12, 6))\n",
        "plt.boxplot(train_data['year'], vert=False)\n",
        "plt.title('Ящик с усами для года выпуска автомобилей')\n",
        "plt.xlabel('Год выпуска')\n",
        "plt.grid(True)\n",
        "plt.show()\n"
      ],
      "metadata": {
        "ExecuteTime": {
          "start_time": "2023-08-18T21:34:01.554583Z",
          "end_time": "2023-08-18T21:34:01.770416Z"
        },
        "id": "MzYdppjSay6I",
        "outputId": "f2c98a40-011b-48b1-e086-45879b414d33"
      }
    },
    {
      "cell_type": "markdown",
      "source": [
        "На графике представлен \"ящик с усами\" для года выпуска автомобилей:\n",
        "\n",
        "* Медианное значение (центральная линия внутри ящика) указывает на то, что средний год выпуска автомобилей в датасете находится в районе 2016 года.*\n",
        "* Нижний и верхний квартили (нижняя и верхняя границы ящика) показывают, что большинство автомобилей было выпущено между 2009 и 2019 годами.\n",
        "* Усы графика показывают распределение значений вне этого интерквартильного диапазона. Значения за пределами усов можно рассматривать как выбросы. В нашем случае есть некоторое количество автомобилей, выпущенных до 2002 года.\n",
        "* Этот график подтверждает наше предыдущее наблюдение о том, что большинство автомобилей в датасете относится к недавним годам выпуска."
      ],
      "metadata": {
        "collapsed": false,
        "id": "vzx3lthEay6I"
      }
    },
    {
      "cell_type": "markdown",
      "source": [
        "создадим новый признак , raritet, и все авто меньше  1998 года поставим 1 , а 1998 и 2015 поставим 0"
      ],
      "metadata": {
        "collapsed": false,
        "id": "q45QW3p-ay6J"
      }
    },
    {
      "cell_type": "code",
      "execution_count": null,
      "outputs": [
        {
          "data": {
            "text/plain": "   year       make         model      trim      body transmission  \\\n0  2005   Cadillac           CTS      Base     Sedan    automatic   \n1  2014        GMC  Savana Cargo      2500       Van    automatic   \n2  2013     Nissan        Murano         S       SUV    automatic   \n3  2013  Chevrolet        Impala  LS Fleet     Sedan    automatic   \n4  2013     Nissan         Titan        SV  Crew Cab    automatic   \n\n                 vin state  condition  odometer   color interior  \\\n0  1g6dp567450124779    ca        2.7  116970.0  silver    black   \n1  1gtw7fca7e1902207    pa        4.4    6286.0   white     gray   \n2  jn8az1mw6dw303497    oh        4.6   11831.0    gray    black   \n3  2g1wf5e34d1160703    fl        2.3   57105.0  silver    black   \n4  1n6aa0ec3dn301209    tn        2.9   31083.0   black    black   \n\n                                             seller  \\\n0                            lexus of stevens creek   \n1                                            u-haul   \n2                                nissan-infiniti lt   \n3  onemain rem/auto club of miami inc dba north dad   \n4                         nissan north america inc.   \n\n                                  saledate  \n0  Wed Jan 14 2015 04:30:00 GMT-0800 (PST)  \n1  Fri Feb 27 2015 01:00:00 GMT-0800 (PST)  \n2  Tue Feb 24 2015 01:30:00 GMT-0800 (PST)  \n3  Fri Mar 06 2015 02:00:00 GMT-0800 (PST)  \n4  Wed Jun 03 2015 03:30:00 GMT-0700 (PDT)  ",
            "text/html": "<div>\n<style scoped>\n    .dataframe tbody tr th:only-of-type {\n        vertical-align: middle;\n    }\n\n    .dataframe tbody tr th {\n        vertical-align: top;\n    }\n\n    .dataframe thead th {\n        text-align: right;\n    }\n</style>\n<table border=\"1\" class=\"dataframe\">\n  <thead>\n    <tr style=\"text-align: right;\">\n      <th></th>\n      <th>year</th>\n      <th>make</th>\n      <th>model</th>\n      <th>trim</th>\n      <th>body</th>\n      <th>transmission</th>\n      <th>vin</th>\n      <th>state</th>\n      <th>condition</th>\n      <th>odometer</th>\n      <th>color</th>\n      <th>interior</th>\n      <th>seller</th>\n      <th>saledate</th>\n    </tr>\n  </thead>\n  <tbody>\n    <tr>\n      <th>0</th>\n      <td>2005</td>\n      <td>Cadillac</td>\n      <td>CTS</td>\n      <td>Base</td>\n      <td>Sedan</td>\n      <td>automatic</td>\n      <td>1g6dp567450124779</td>\n      <td>ca</td>\n      <td>2.7</td>\n      <td>116970.0</td>\n      <td>silver</td>\n      <td>black</td>\n      <td>lexus of stevens creek</td>\n      <td>Wed Jan 14 2015 04:30:00 GMT-0800 (PST)</td>\n    </tr>\n    <tr>\n      <th>1</th>\n      <td>2014</td>\n      <td>GMC</td>\n      <td>Savana Cargo</td>\n      <td>2500</td>\n      <td>Van</td>\n      <td>automatic</td>\n      <td>1gtw7fca7e1902207</td>\n      <td>pa</td>\n      <td>4.4</td>\n      <td>6286.0</td>\n      <td>white</td>\n      <td>gray</td>\n      <td>u-haul</td>\n      <td>Fri Feb 27 2015 01:00:00 GMT-0800 (PST)</td>\n    </tr>\n    <tr>\n      <th>2</th>\n      <td>2013</td>\n      <td>Nissan</td>\n      <td>Murano</td>\n      <td>S</td>\n      <td>SUV</td>\n      <td>automatic</td>\n      <td>jn8az1mw6dw303497</td>\n      <td>oh</td>\n      <td>4.6</td>\n      <td>11831.0</td>\n      <td>gray</td>\n      <td>black</td>\n      <td>nissan-infiniti lt</td>\n      <td>Tue Feb 24 2015 01:30:00 GMT-0800 (PST)</td>\n    </tr>\n    <tr>\n      <th>3</th>\n      <td>2013</td>\n      <td>Chevrolet</td>\n      <td>Impala</td>\n      <td>LS Fleet</td>\n      <td>Sedan</td>\n      <td>automatic</td>\n      <td>2g1wf5e34d1160703</td>\n      <td>fl</td>\n      <td>2.3</td>\n      <td>57105.0</td>\n      <td>silver</td>\n      <td>black</td>\n      <td>onemain rem/auto club of miami inc dba north dad</td>\n      <td>Fri Mar 06 2015 02:00:00 GMT-0800 (PST)</td>\n    </tr>\n    <tr>\n      <th>4</th>\n      <td>2013</td>\n      <td>Nissan</td>\n      <td>Titan</td>\n      <td>SV</td>\n      <td>Crew Cab</td>\n      <td>automatic</td>\n      <td>1n6aa0ec3dn301209</td>\n      <td>tn</td>\n      <td>2.9</td>\n      <td>31083.0</td>\n      <td>black</td>\n      <td>black</td>\n      <td>nissan north america inc.</td>\n      <td>Wed Jun 03 2015 03:30:00 GMT-0700 (PDT)</td>\n    </tr>\n  </tbody>\n</table>\n</div>"
          },
          "execution_count": 185,
          "metadata": {},
          "output_type": "execute_result"
        }
      ],
      "source": [
        "test_data.head()"
      ],
      "metadata": {
        "ExecuteTime": {
          "start_time": "2023-08-18T21:34:01.725025Z",
          "end_time": "2023-08-18T21:34:01.786019Z"
        },
        "id": "JHXryKvEay6J",
        "outputId": "088aac6d-319d-4814-aaaf-88f7f31c5527"
      }
    },
    {
      "cell_type": "code",
      "execution_count": null,
      "outputs": [],
      "source": [
        "test_data['raritet'] = test_data['year'].apply(lambda x: 1 if x < 1998 else (0 if 1998 <= x <= 2015 else None))"
      ],
      "metadata": {
        "ExecuteTime": {
          "start_time": "2023-08-18T21:34:01.739109Z",
          "end_time": "2023-08-18T21:34:01.896543Z"
        },
        "id": "K1H2d-k0ay6J"
      }
    },
    {
      "cell_type": "code",
      "execution_count": null,
      "outputs": [
        {
          "data": {
            "text/plain": "   year  raritet\n0  2011        0\n1  2014        0\n2  2012        0\n3  2003        0\n4  2007        0",
            "text/html": "<div>\n<style scoped>\n    .dataframe tbody tr th:only-of-type {\n        vertical-align: middle;\n    }\n\n    .dataframe tbody tr th {\n        vertical-align: top;\n    }\n\n    .dataframe thead th {\n        text-align: right;\n    }\n</style>\n<table border=\"1\" class=\"dataframe\">\n  <thead>\n    <tr style=\"text-align: right;\">\n      <th></th>\n      <th>year</th>\n      <th>raritet</th>\n    </tr>\n  </thead>\n  <tbody>\n    <tr>\n      <th>0</th>\n      <td>2011</td>\n      <td>0</td>\n    </tr>\n    <tr>\n      <th>1</th>\n      <td>2014</td>\n      <td>0</td>\n    </tr>\n    <tr>\n      <th>2</th>\n      <td>2012</td>\n      <td>0</td>\n    </tr>\n    <tr>\n      <th>3</th>\n      <td>2003</td>\n      <td>0</td>\n    </tr>\n    <tr>\n      <th>4</th>\n      <td>2007</td>\n      <td>0</td>\n    </tr>\n  </tbody>\n</table>\n</div>"
          },
          "execution_count": 187,
          "metadata": {},
          "output_type": "execute_result"
        }
      ],
      "source": [
        "# Создаем новый признак 'raritet'\n",
        "train_data['raritet'] = train_data['year'].apply(lambda x: 1 if x < 1998 else (0 if 1998 <= x <= 2015 else None))\n",
        "test_data['raritet'] = test_data['year'].apply(lambda x: 1 if x < 1998 else (0 if 1998 <= x <= 2015 else None))\n",
        "\n",
        "# Проверяем первые строки датасета для нового признака\n",
        "train_data[['year', 'raritet']].head()\n"
      ],
      "metadata": {
        "ExecuteTime": {
          "start_time": "2023-08-18T21:34:01.787144Z",
          "end_time": "2023-08-18T21:34:02.047786Z"
        },
        "id": "Aq5KhPuway6K",
        "outputId": "5c0826e2-9308-442b-fade-6159f0199173"
      }
    },
    {
      "cell_type": "markdown",
      "source": [
        "Новый признак \"raritet\" :\n",
        "\n",
        "Автомобили, выпущенные до 1998 года, получили значение 1.\n",
        "Автомобили, выпущенные между 1998 и 2015 годами, получили значение 0."
      ],
      "metadata": {
        "collapsed": false,
        "id": "6Adjh4vlay6K"
      }
    },
    {
      "cell_type": "code",
      "execution_count": null,
      "outputs": [
        {
          "data": {
            "text/plain": "3188"
          },
          "execution_count": 188,
          "metadata": {},
          "output_type": "execute_result"
        }
      ],
      "source": [
        "# Подсчитываем количество автомобилей с raritet = 1\n",
        "raritet_count = train_data[train_data['raritet'] == 1].shape[0]\n",
        "raritet_count"
      ],
      "metadata": {
        "ExecuteTime": {
          "start_time": "2023-08-18T21:34:01.997860Z",
          "end_time": "2023-08-18T21:34:02.047786Z"
        },
        "id": "pO-Ebg7Ray6L",
        "outputId": "8c01e4ab-d33c-41b0-c5cb-7269bf2a5ab8"
      }
    },
    {
      "cell_type": "markdown",
      "source": [
        "sellingprice сколько равно 0, сколько равно  меньше 1000, сколько больше 45000"
      ],
      "metadata": {
        "collapsed": false,
        "id": "Gns_PV2pay6L"
      }
    },
    {
      "cell_type": "code",
      "execution_count": null,
      "outputs": [
        {
          "data": {
            "text/plain": "(0, 12539, 4214)"
          },
          "execution_count": 189,
          "metadata": {},
          "output_type": "execute_result"
        }
      ],
      "source": [
        "# Подсчитываем количество автомобилей с различными значениями 'sellingprice'\n",
        "count_zero = train_data[train_data['sellingprice'] == 0].shape[0]\n",
        "count_less_than_1000 = train_data[train_data['sellingprice'] < 1000].shape[0]\n",
        "count_more_than_45000 = train_data[train_data['sellingprice'] > 45000].shape[0]\n",
        "\n",
        "count_zero, count_less_than_1000, count_more_than_45000\n"
      ],
      "metadata": {
        "ExecuteTime": {
          "start_time": "2023-08-18T21:34:02.009974Z",
          "end_time": "2023-08-18T21:34:02.069884Z"
        },
        "id": "D0lrAOv4ay6L",
        "outputId": "a566f83f-1fb9-47d4-ea29-1d25378935f1"
      }
    },
    {
      "cell_type": "markdown",
      "source": [
        "распределение автомобилей по значениям 'sellingprice':\n",
        "\n",
        "* Количество автомобилей с ценой продажи равной 0: 0 штук.\n",
        "* Количество автомобилей с ценой продажи меньше 1000: 12,539 штук.\n",
        "* Количество автомобилей с ценой продажи больше 45,000: 4,214 штук."
      ],
      "metadata": {
        "collapsed": false,
        "id": "Ct5d3nqBay6M"
      }
    },
    {
      "cell_type": "markdown",
      "source": [],
      "metadata": {
        "collapsed": false,
        "id": "z7tr9GYGay6M"
      }
    },
    {
      "cell_type": "code",
      "execution_count": null,
      "outputs": [
        {
          "data": {
            "text/plain": "('Fri Apr 03 2015 01:29:00 GMT-0700 (PDT)',\n 'Wed May 27 2015 17:00:00 GMT-0700 (PDT)')"
          },
          "execution_count": 191,
          "metadata": {},
          "output_type": "execute_result"
        }
      ],
      "source": [
        "# Определяем минимальную и максимальную даты продажи\n",
        "min_saledate = train_data['saledate'].min()\n",
        "max_saledate = train_data['saledate'].max()\n",
        "\n",
        "min_saledate, max_saledate\n"
      ],
      "metadata": {
        "ExecuteTime": {
          "start_time": "2023-08-18T21:34:02.069884Z",
          "end_time": "2023-08-18T21:34:02.213712Z"
        },
        "id": "5N4ncbs6ay6M",
        "outputId": "24e5591d-02d1-4ba9-b4e0-853a326082aa"
      }
    },
    {
      "cell_type": "code",
      "execution_count": null,
      "outputs": [
        {
          "data": {
            "text/plain": "('Fri Apr 03 2015 02:00:00 GMT-0700 (PDT)',\n 'Wed May 27 2015 17:00:00 GMT-0700 (PDT)')"
          },
          "execution_count": 192,
          "metadata": {},
          "output_type": "execute_result"
        }
      ],
      "source": [
        "\n",
        "# Определяем минимальную и максимальную даты продажи в тестовом датасете\n",
        "min_saledate_test = test_data['saledate'].min()\n",
        "max_saledate_test = test_data['saledate'].max()\n",
        "\n",
        "min_saledate_test, max_saledate_test\n"
      ],
      "metadata": {
        "ExecuteTime": {
          "start_time": "2023-08-18T21:34:02.117681Z",
          "end_time": "2023-08-18T21:34:02.213712Z"
        },
        "id": "i0DzZzaJay6M",
        "outputId": "f1b5733d-5a7f-4d04-c35a-b3e955453437"
      }
    },
    {
      "cell_type": "markdown",
      "source": [
        "Даты продажи автомобилей в датасете охватывают следующий промежуток:\n",
        "\n",
        "* Минимальная дата продажи: 3 апреля 2015 года\n",
        "* Максимальная дата продажи: 27 мая 2015 года\n",
        "* Таким образом, данные о продажах автомобилей охватывают период примерно в два месяца в 2015 году."
      ],
      "metadata": {
        "collapsed": false,
        "id": "6w2Bv8x1ay6N"
      }
    },
    {
      "cell_type": "markdown",
      "source": [],
      "metadata": {
        "collapsed": false,
        "id": "owZ7dJO7ay6N"
      }
    },
    {
      "cell_type": "code",
      "execution_count": null,
      "outputs": [
        {
          "name": "stdout",
          "output_type": "stream",
          "text": [
            "For train_data:\n",
            "object\n",
            "datetime64[ns]\n"
          ]
        }
      ],
      "source": [
        "# Для train_data\n",
        "train_data['saledate'] = pd.to_datetime(train_data['saledate'].astype(str), errors='coerce')\n",
        "train_data['release_date'] = pd.to_datetime(train_data['year'].astype(str), format='%Y', errors='coerce')\n",
        "\n",
        "print(\"For train_data:\")\n",
        "print(train_data['saledate'].dtype)\n",
        "print(train_data['release_date'].dtype)\n",
        "\n",
        "\n"
      ],
      "metadata": {
        "ExecuteTime": {
          "start_time": "2023-08-18T21:34:02.151176Z",
          "end_time": "2023-08-18T21:34:04.136605Z"
        },
        "id": "6RjBcq7qay6N",
        "outputId": "57027092-3d74-43e3-cea5-1e3af9a731e6"
      }
    },
    {
      "cell_type": "code",
      "execution_count": null,
      "outputs": [
        {
          "name": "stdout",
          "output_type": "stream",
          "text": [
            "\n",
            "For test_data:\n",
            "object\n",
            "datetime64[ns]\n"
          ]
        }
      ],
      "source": [
        "# Для test_data\n",
        "test_data['saledate'] = pd.to_datetime(test_data['saledate'].astype(str), errors='coerce')\n",
        "test_data['release_date'] = pd.to_datetime(test_data['year'].astype(str), format='%Y', errors='coerce')\n",
        "\n",
        "print(\"\\nFor test_data:\")\n",
        "print(test_data['saledate'].dtype)\n",
        "print(test_data['release_date'].dtype)\n"
      ],
      "metadata": {
        "ExecuteTime": {
          "start_time": "2023-08-18T21:34:04.133436Z",
          "end_time": "2023-08-18T21:34:05.104116Z"
        },
        "id": "BlpbdjQlay6O",
        "outputId": "f44e3ce3-8da4-4741-db4a-9221c256113e"
      }
    },
    {
      "cell_type": "code",
      "execution_count": null,
      "outputs": [
        {
          "name": "stderr",
          "output_type": "stream",
          "text": [
            "C:\\Temp\\ipykernel_7320\\414479690.py:10: FutureWarning: The default value of regex will change from True to False in a future version.\n",
            "  train_data['saledate'] = train_data['saledate'].str.replace(r'\\+\\d{2}:\\d{2}', '')\n",
            "C:\\Temp\\ipykernel_7320\\414479690.py:11: FutureWarning: The default value of regex will change from True to False in a future version.\n",
            "  test_data['saledate'] = test_data['saledate'].str.replace(r'\\+\\d{2}:\\d{2}', '')\n"
          ]
        },
        {
          "data": {
            "text/plain": "             saledate timezone  days_in_use\n0 2015-06-02 02:30:00   +07:00         1613\n1 2015-02-25 02:00:00   +08:00          420\n2 2015-06-10 02:30:00   +07:00         1256\n3 2015-06-17 03:00:00   +07:00         4550\n4 2015-02-03 04:00:00   +08:00         2955",
            "text/html": "<div>\n<style scoped>\n    .dataframe tbody tr th:only-of-type {\n        vertical-align: middle;\n    }\n\n    .dataframe tbody tr th {\n        vertical-align: top;\n    }\n\n    .dataframe thead th {\n        text-align: right;\n    }\n</style>\n<table border=\"1\" class=\"dataframe\">\n  <thead>\n    <tr style=\"text-align: right;\">\n      <th></th>\n      <th>saledate</th>\n      <th>timezone</th>\n      <th>days_in_use</th>\n    </tr>\n  </thead>\n  <tbody>\n    <tr>\n      <th>0</th>\n      <td>2015-06-02 02:30:00</td>\n      <td>+07:00</td>\n      <td>1613</td>\n    </tr>\n    <tr>\n      <th>1</th>\n      <td>2015-02-25 02:00:00</td>\n      <td>+08:00</td>\n      <td>420</td>\n    </tr>\n    <tr>\n      <th>2</th>\n      <td>2015-06-10 02:30:00</td>\n      <td>+07:00</td>\n      <td>1256</td>\n    </tr>\n    <tr>\n      <th>3</th>\n      <td>2015-06-17 03:00:00</td>\n      <td>+07:00</td>\n      <td>4550</td>\n    </tr>\n    <tr>\n      <th>4</th>\n      <td>2015-02-03 04:00:00</td>\n      <td>+08:00</td>\n      <td>2955</td>\n    </tr>\n  </tbody>\n</table>\n</div>"
          },
          "execution_count": 197,
          "metadata": {},
          "output_type": "execute_result"
        }
      ],
      "source": [
        "# Преобразование 'saledate' в строковый тип данных\n",
        "train_data['saledate'] = train_data['saledate'].astype(str)\n",
        "test_data['saledate'] = test_data['saledate'].astype(str)\n",
        "\n",
        "# Извлечение временной зоны и сохранение в новом столбце 'timezone'\n",
        "train_data['timezone'] = train_data['saledate'].str.extract(r'(\\+\\d{2}:\\d{2})')\n",
        "test_data['timezone'] = test_data['saledate'].str.extract(r'(\\+\\d{2}:\\d{2})')\n",
        "\n",
        "# Удаление информации о временной зоне из 'saledate'\n",
        "train_data['saledate'] = train_data['saledate'].str.replace(r'\\+\\d{2}:\\d{2}', '')\n",
        "test_data['saledate'] = test_data['saledate'].str.replace(r'\\+\\d{2}:\\d{2}', '')\n",
        "\n",
        "# Преобразование 'saledate' обратно в datetime\n",
        "train_data['saledate'] = pd.to_datetime(train_data['saledate'])\n",
        "test_data['saledate'] = pd.to_datetime(test_data['saledate'])\n",
        "\n",
        "# Вычисление 'days_in_use'\n",
        "train_data['days_in_use'] = (train_data['saledate'] - pd.to_datetime(train_data['year'], format='%Y')).dt.days\n",
        "test_data['days_in_use'] = (test_data['saledate'] - pd.to_datetime(test_data['year'], format='%Y')).dt.days\n",
        "\n",
        "train_data[['saledate', 'timezone', 'days_in_use']].head()\n",
        "\n"
      ],
      "metadata": {
        "ExecuteTime": {
          "start_time": "2023-08-18T21:34:05.135413Z",
          "end_time": "2023-08-18T21:34:08.785507Z"
        },
        "id": "EOgNyhKRay6O",
        "outputId": "d852df6a-c354-4431-bfea-98ff684beaf9"
      }
    },
    {
      "cell_type": "code",
      "execution_count": null,
      "outputs": [
        {
          "data": {
            "text/plain": "             saledate timezone  days_in_use\n0 2015-01-14 04:30:00   +08:00         3665\n1 2015-02-27 01:00:00   +08:00          422\n2 2015-02-24 01:30:00   +08:00          784\n3 2015-03-06 02:00:00   +08:00          794\n4 2015-06-03 03:30:00   +07:00          883",
            "text/html": "<div>\n<style scoped>\n    .dataframe tbody tr th:only-of-type {\n        vertical-align: middle;\n    }\n\n    .dataframe tbody tr th {\n        vertical-align: top;\n    }\n\n    .dataframe thead th {\n        text-align: right;\n    }\n</style>\n<table border=\"1\" class=\"dataframe\">\n  <thead>\n    <tr style=\"text-align: right;\">\n      <th></th>\n      <th>saledate</th>\n      <th>timezone</th>\n      <th>days_in_use</th>\n    </tr>\n  </thead>\n  <tbody>\n    <tr>\n      <th>0</th>\n      <td>2015-01-14 04:30:00</td>\n      <td>+08:00</td>\n      <td>3665</td>\n    </tr>\n    <tr>\n      <th>1</th>\n      <td>2015-02-27 01:00:00</td>\n      <td>+08:00</td>\n      <td>422</td>\n    </tr>\n    <tr>\n      <th>2</th>\n      <td>2015-02-24 01:30:00</td>\n      <td>+08:00</td>\n      <td>784</td>\n    </tr>\n    <tr>\n      <th>3</th>\n      <td>2015-03-06 02:00:00</td>\n      <td>+08:00</td>\n      <td>794</td>\n    </tr>\n    <tr>\n      <th>4</th>\n      <td>2015-06-03 03:30:00</td>\n      <td>+07:00</td>\n      <td>883</td>\n    </tr>\n  </tbody>\n</table>\n</div>"
          },
          "execution_count": 198,
          "metadata": {},
          "output_type": "execute_result"
        }
      ],
      "source": [
        "test_data[['saledate', 'timezone', 'days_in_use']].head()"
      ],
      "metadata": {
        "ExecuteTime": {
          "start_time": "2023-08-18T21:34:08.785507Z",
          "end_time": "2023-08-18T21:34:08.864260Z"
        },
        "id": "G851-36Hay6O",
        "outputId": "90f23d43-6e4a-4bc9-81cb-59a132cbd01c"
      }
    },
    {
      "cell_type": "markdown",
      "source": [],
      "metadata": {
        "collapsed": false,
        "id": "atZJ6oBKay6P"
      }
    },
    {
      "cell_type": "code",
      "execution_count": null,
      "outputs": [
        {
          "name": "stderr",
          "output_type": "stream",
          "text": [
            "C:\\Temp\\ipykernel_7320\\350643256.py:6: FutureWarning: The default value of regex will change from True to False in a future version. In addition, single character regular expressions will *not* be treated as literal strings when regex=True.\n",
            "  train_data['timezone'] = train_data['timezone'].str.replace('+', '').str.replace(':', '').astype(int) / 100\n",
            "C:\\Temp\\ipykernel_7320\\350643256.py:7: FutureWarning: The default value of regex will change from True to False in a future version. In addition, single character regular expressions will *not* be treated as literal strings when regex=True.\n",
            "  test_data['timezone'] = test_data['timezone'].str.replace('+', '').str.replace(':', '').astype(int) / 100\n"
          ]
        },
        {
          "data": {
            "text/plain": "(0    7.0\n 1    8.0\n 2    7.0\n 3    7.0\n 4    8.0\n Name: timezone, dtype: float64,\n 0    8.0\n 1    8.0\n 2    8.0\n 3    8.0\n 4    7.0\n Name: timezone, dtype: float64)"
          },
          "execution_count": 199,
          "metadata": {},
          "output_type": "execute_result"
        }
      ],
      "source": [
        "# Удаление столбца 'saledate'\n",
        "train_data = train_data.drop(columns=['saledate','release_date'])\n",
        "test_data = test_data.drop(columns=['saledate','release_date'])\n",
        "\n",
        "# Преобразование столбца 'timezone' в числовое значение\n",
        "train_data['timezone'] = train_data['timezone'].str.replace('+', '').str.replace(':', '').astype(int) / 100\n",
        "test_data['timezone'] = test_data['timezone'].str.replace('+', '').str.replace(':', '').astype(int) / 100\n",
        "\n",
        "train_data['timezone'].head(), test_data['timezone'].head()\n"
      ],
      "metadata": {
        "ExecuteTime": {
          "start_time": "2023-08-18T21:34:08.833017Z",
          "end_time": "2023-08-18T21:34:09.346540Z"
        },
        "id": "78tf73Qqay6P",
        "outputId": "6a37e3e7-9317-4a29-9b48-dad912989856"
      }
    },
    {
      "cell_type": "markdown",
      "source": [
        "\n",
        "все обработали давай построим модель для предсказания стоимости продажи автомобиля на вторичном рынке.\n",
        "задача - предсказать значение 'sellingprice' для каждого автомобиля из этого датасета. test.csv,\n",
        "на тренировочной выборке train.csv, вывод: sample_submission.csv - пример файла предсказаний в правильном формате.\n",
        "vin - идентификатор автомобиля в тестовом наборе.\n",
        "sellingprice - Целевой признак. Для каждого автомобиля предскажите числовое значение стоимости продажи."
      ],
      "metadata": {
        "collapsed": false,
        "id": "KCmiwjRlay6P"
      }
    },
    {
      "cell_type": "markdown",
      "source": [
        "* Удаление неинформативных столбцов и столбцов, которые не будут использоваться в модели (например, дата продажи, VIN и т. д.).\n",
        "* Преобразование категориальных переменных в числовые с использованием метода кодирования (например, one-hot encoding).\n",
        "* Разделение данных на признаки (X) и целевую переменную (y)."
      ],
      "metadata": {
        "collapsed": false,
        "id": "emaX0A3Gay6Q"
      }
    },
    {
      "cell_type": "markdown",
      "source": [
        "# РАСЧЕТ"
      ],
      "metadata": {
        "collapsed": false,
        "id": "HAG3t-Atay6Q"
      }
    },
    {
      "cell_type": "code",
      "execution_count": null,
      "outputs": [],
      "source": [
        "from sklearn.preprocessing import StandardScaler\n",
        "\n",
        "# Удаляем ненужные столбцы\n",
        "X_cluster = train_data.drop(columns=['sellingprice'])\n",
        "\n",
        "# Определение категориальных признаков\n",
        "categorical_features = train_data.select_dtypes(include=['object']).columns.tolist()\n",
        "\n",
        "# Создание трансформера для категориальных признаков\n",
        "categorical_transformer = Pipeline(steps=[\n",
        "    ('encoder', OrdinalEncoder(handle_unknown='use_encoded_value', unknown_value=-1))\n",
        "])\n",
        "\n",
        "# Создание итогового трансформера\n",
        "preprocessor = ColumnTransformer(\n",
        "    transformers=[\n",
        "        ('cat', categorical_transformer, categorical_features)\n",
        "    ],\n",
        "    remainder='passthrough'\n",
        ")\n",
        "\n",
        "# Применяем препроцессор и одновременно обучаем его\n",
        "X_preprocessed = preprocessor.fit_transform(X_cluster)\n",
        "\n",
        "# Масштабирование признаков\n",
        "scaler = StandardScaler()\n",
        "X_scaled = scaler.fit_transform(X_preprocessed)\n",
        "\n"
      ],
      "metadata": {
        "ExecuteTime": {
          "start_time": "2023-08-18T21:34:09.346540Z",
          "end_time": "2023-08-18T21:34:13.483513Z"
        },
        "id": "NV9ZQMrcay6Q"
      }
    },
    {
      "cell_type": "code",
      "execution_count": null,
      "outputs": [
        {
          "name": "stderr",
          "output_type": "stream",
          "text": [
            "C:\\Users\\admin\\AppData\\Local\\Programs\\Python\\Python311\\Lib\\site-packages\\sklearn\\cluster\\_kmeans.py:870: FutureWarning: The default value of `n_init` will change from 10 to 'auto' in 1.4. Set the value of `n_init` explicitly to suppress the warning\n",
            "  warnings.warn(\n",
            "C:\\Users\\admin\\AppData\\Local\\Programs\\Python\\Python311\\Lib\\site-packages\\sklearn\\cluster\\_kmeans.py:870: FutureWarning: The default value of `n_init` will change from 10 to 'auto' in 1.4. Set the value of `n_init` explicitly to suppress the warning\n",
            "  warnings.warn(\n",
            "C:\\Users\\admin\\AppData\\Local\\Programs\\Python\\Python311\\Lib\\site-packages\\sklearn\\cluster\\_kmeans.py:870: FutureWarning: The default value of `n_init` will change from 10 to 'auto' in 1.4. Set the value of `n_init` explicitly to suppress the warning\n",
            "  warnings.warn(\n",
            "C:\\Users\\admin\\AppData\\Local\\Programs\\Python\\Python311\\Lib\\site-packages\\sklearn\\cluster\\_kmeans.py:870: FutureWarning: The default value of `n_init` will change from 10 to 'auto' in 1.4. Set the value of `n_init` explicitly to suppress the warning\n",
            "  warnings.warn(\n",
            "C:\\Users\\admin\\AppData\\Local\\Programs\\Python\\Python311\\Lib\\site-packages\\sklearn\\cluster\\_kmeans.py:870: FutureWarning: The default value of `n_init` will change from 10 to 'auto' in 1.4. Set the value of `n_init` explicitly to suppress the warning\n",
            "  warnings.warn(\n",
            "C:\\Users\\admin\\AppData\\Local\\Programs\\Python\\Python311\\Lib\\site-packages\\sklearn\\cluster\\_kmeans.py:870: FutureWarning: The default value of `n_init` will change from 10 to 'auto' in 1.4. Set the value of `n_init` explicitly to suppress the warning\n",
            "  warnings.warn(\n",
            "C:\\Users\\admin\\AppData\\Local\\Programs\\Python\\Python311\\Lib\\site-packages\\sklearn\\cluster\\_kmeans.py:870: FutureWarning: The default value of `n_init` will change from 10 to 'auto' in 1.4. Set the value of `n_init` explicitly to suppress the warning\n",
            "  warnings.warn(\n",
            "C:\\Users\\admin\\AppData\\Local\\Programs\\Python\\Python311\\Lib\\site-packages\\sklearn\\cluster\\_kmeans.py:870: FutureWarning: The default value of `n_init` will change from 10 to 'auto' in 1.4. Set the value of `n_init` explicitly to suppress the warning\n",
            "  warnings.warn(\n",
            "C:\\Users\\admin\\AppData\\Local\\Programs\\Python\\Python311\\Lib\\site-packages\\sklearn\\cluster\\_kmeans.py:870: FutureWarning: The default value of `n_init` will change from 10 to 'auto' in 1.4. Set the value of `n_init` explicitly to suppress the warning\n",
            "  warnings.warn(\n",
            "C:\\Users\\admin\\AppData\\Local\\Programs\\Python\\Python311\\Lib\\site-packages\\sklearn\\cluster\\_kmeans.py:870: FutureWarning: The default value of `n_init` will change from 10 to 'auto' in 1.4. Set the value of `n_init` explicitly to suppress the warning\n",
            "  warnings.warn(\n",
            "C:\\Users\\admin\\AppData\\Local\\Programs\\Python\\Python311\\Lib\\site-packages\\sklearn\\cluster\\_kmeans.py:870: FutureWarning: The default value of `n_init` will change from 10 to 'auto' in 1.4. Set the value of `n_init` explicitly to suppress the warning\n",
            "  warnings.warn(\n",
            "C:\\Users\\admin\\AppData\\Local\\Programs\\Python\\Python311\\Lib\\site-packages\\sklearn\\cluster\\_kmeans.py:870: FutureWarning: The default value of `n_init` will change from 10 to 'auto' in 1.4. Set the value of `n_init` explicitly to suppress the warning\n",
            "  warnings.warn(\n",
            "C:\\Users\\admin\\AppData\\Local\\Programs\\Python\\Python311\\Lib\\site-packages\\sklearn\\cluster\\_kmeans.py:870: FutureWarning: The default value of `n_init` will change from 10 to 'auto' in 1.4. Set the value of `n_init` explicitly to suppress the warning\n",
            "  warnings.warn(\n",
            "C:\\Users\\admin\\AppData\\Local\\Programs\\Python\\Python311\\Lib\\site-packages\\sklearn\\cluster\\_kmeans.py:870: FutureWarning: The default value of `n_init` will change from 10 to 'auto' in 1.4. Set the value of `n_init` explicitly to suppress the warning\n",
            "  warnings.warn(\n",
            "C:\\Users\\admin\\AppData\\Local\\Programs\\Python\\Python311\\Lib\\site-packages\\sklearn\\cluster\\_kmeans.py:870: FutureWarning: The default value of `n_init` will change from 10 to 'auto' in 1.4. Set the value of `n_init` explicitly to suppress the warning\n",
            "  warnings.warn(\n",
            "C:\\Users\\admin\\AppData\\Local\\Programs\\Python\\Python311\\Lib\\site-packages\\sklearn\\cluster\\_kmeans.py:870: FutureWarning: The default value of `n_init` will change from 10 to 'auto' in 1.4. Set the value of `n_init` explicitly to suppress the warning\n",
            "  warnings.warn(\n",
            "C:\\Users\\admin\\AppData\\Local\\Programs\\Python\\Python311\\Lib\\site-packages\\sklearn\\cluster\\_kmeans.py:870: FutureWarning: The default value of `n_init` will change from 10 to 'auto' in 1.4. Set the value of `n_init` explicitly to suppress the warning\n",
            "  warnings.warn(\n",
            "C:\\Users\\admin\\AppData\\Local\\Programs\\Python\\Python311\\Lib\\site-packages\\sklearn\\cluster\\_kmeans.py:870: FutureWarning: The default value of `n_init` will change from 10 to 'auto' in 1.4. Set the value of `n_init` explicitly to suppress the warning\n",
            "  warnings.warn(\n",
            "C:\\Users\\admin\\AppData\\Local\\Programs\\Python\\Python311\\Lib\\site-packages\\sklearn\\cluster\\_kmeans.py:870: FutureWarning: The default value of `n_init` will change from 10 to 'auto' in 1.4. Set the value of `n_init` explicitly to suppress the warning\n",
            "  warnings.warn(\n",
            "C:\\Users\\admin\\AppData\\Local\\Programs\\Python\\Python311\\Lib\\site-packages\\sklearn\\cluster\\_kmeans.py:870: FutureWarning: The default value of `n_init` will change from 10 to 'auto' in 1.4. Set the value of `n_init` explicitly to suppress the warning\n",
            "  warnings.warn(\n",
            "C:\\Users\\admin\\AppData\\Local\\Programs\\Python\\Python311\\Lib\\site-packages\\sklearn\\cluster\\_kmeans.py:870: FutureWarning: The default value of `n_init` will change from 10 to 'auto' in 1.4. Set the value of `n_init` explicitly to suppress the warning\n",
            "  warnings.warn(\n",
            "C:\\Users\\admin\\AppData\\Local\\Programs\\Python\\Python311\\Lib\\site-packages\\sklearn\\cluster\\_kmeans.py:870: FutureWarning: The default value of `n_init` will change from 10 to 'auto' in 1.4. Set the value of `n_init` explicitly to suppress the warning\n",
            "  warnings.warn(\n",
            "C:\\Users\\admin\\AppData\\Local\\Programs\\Python\\Python311\\Lib\\site-packages\\sklearn\\cluster\\_kmeans.py:870: FutureWarning: The default value of `n_init` will change from 10 to 'auto' in 1.4. Set the value of `n_init` explicitly to suppress the warning\n",
            "  warnings.warn(\n",
            "C:\\Users\\admin\\AppData\\Local\\Programs\\Python\\Python311\\Lib\\site-packages\\sklearn\\cluster\\_kmeans.py:870: FutureWarning: The default value of `n_init` will change from 10 to 'auto' in 1.4. Set the value of `n_init` explicitly to suppress the warning\n",
            "  warnings.warn(\n",
            "C:\\Users\\admin\\AppData\\Local\\Programs\\Python\\Python311\\Lib\\site-packages\\sklearn\\cluster\\_kmeans.py:870: FutureWarning: The default value of `n_init` will change from 10 to 'auto' in 1.4. Set the value of `n_init` explicitly to suppress the warning\n",
            "  warnings.warn(\n",
            "C:\\Users\\admin\\AppData\\Local\\Programs\\Python\\Python311\\Lib\\site-packages\\sklearn\\cluster\\_kmeans.py:870: FutureWarning: The default value of `n_init` will change from 10 to 'auto' in 1.4. Set the value of `n_init` explicitly to suppress the warning\n",
            "  warnings.warn(\n",
            "C:\\Users\\admin\\AppData\\Local\\Programs\\Python\\Python311\\Lib\\site-packages\\sklearn\\cluster\\_kmeans.py:870: FutureWarning: The default value of `n_init` will change from 10 to 'auto' in 1.4. Set the value of `n_init` explicitly to suppress the warning\n",
            "  warnings.warn(\n",
            "C:\\Users\\admin\\AppData\\Local\\Programs\\Python\\Python311\\Lib\\site-packages\\sklearn\\cluster\\_kmeans.py:870: FutureWarning: The default value of `n_init` will change from 10 to 'auto' in 1.4. Set the value of `n_init` explicitly to suppress the warning\n",
            "  warnings.warn(\n",
            "C:\\Users\\admin\\AppData\\Local\\Programs\\Python\\Python311\\Lib\\site-packages\\sklearn\\cluster\\_kmeans.py:870: FutureWarning: The default value of `n_init` will change from 10 to 'auto' in 1.4. Set the value of `n_init` explicitly to suppress the warning\n",
            "  warnings.warn(\n",
            "C:\\Users\\admin\\AppData\\Local\\Programs\\Python\\Python311\\Lib\\site-packages\\sklearn\\cluster\\_kmeans.py:870: FutureWarning: The default value of `n_init` will change from 10 to 'auto' in 1.4. Set the value of `n_init` explicitly to suppress the warning\n",
            "  warnings.warn(\n",
            "C:\\Users\\admin\\AppData\\Local\\Programs\\Python\\Python311\\Lib\\site-packages\\sklearn\\cluster\\_kmeans.py:870: FutureWarning: The default value of `n_init` will change from 10 to 'auto' in 1.4. Set the value of `n_init` explicitly to suppress the warning\n",
            "  warnings.warn(\n",
            "C:\\Users\\admin\\AppData\\Local\\Programs\\Python\\Python311\\Lib\\site-packages\\sklearn\\cluster\\_kmeans.py:870: FutureWarning: The default value of `n_init` will change from 10 to 'auto' in 1.4. Set the value of `n_init` explicitly to suppress the warning\n",
            "  warnings.warn(\n",
            "C:\\Users\\admin\\AppData\\Local\\Programs\\Python\\Python311\\Lib\\site-packages\\sklearn\\cluster\\_kmeans.py:870: FutureWarning: The default value of `n_init` will change from 10 to 'auto' in 1.4. Set the value of `n_init` explicitly to suppress the warning\n",
            "  warnings.warn(\n",
            "C:\\Users\\admin\\AppData\\Local\\Programs\\Python\\Python311\\Lib\\site-packages\\sklearn\\cluster\\_kmeans.py:870: FutureWarning: The default value of `n_init` will change from 10 to 'auto' in 1.4. Set the value of `n_init` explicitly to suppress the warning\n",
            "  warnings.warn(\n",
            "C:\\Users\\admin\\AppData\\Local\\Programs\\Python\\Python311\\Lib\\site-packages\\sklearn\\cluster\\_kmeans.py:870: FutureWarning: The default value of `n_init` will change from 10 to 'auto' in 1.4. Set the value of `n_init` explicitly to suppress the warning\n",
            "  warnings.warn(\n",
            "C:\\Users\\admin\\AppData\\Local\\Programs\\Python\\Python311\\Lib\\site-packages\\sklearn\\cluster\\_kmeans.py:870: FutureWarning: The default value of `n_init` will change from 10 to 'auto' in 1.4. Set the value of `n_init` explicitly to suppress the warning\n",
            "  warnings.warn(\n",
            "C:\\Users\\admin\\AppData\\Local\\Programs\\Python\\Python311\\Lib\\site-packages\\sklearn\\cluster\\_kmeans.py:870: FutureWarning: The default value of `n_init` will change from 10 to 'auto' in 1.4. Set the value of `n_init` explicitly to suppress the warning\n",
            "  warnings.warn(\n",
            "C:\\Users\\admin\\AppData\\Local\\Programs\\Python\\Python311\\Lib\\site-packages\\sklearn\\cluster\\_kmeans.py:870: FutureWarning: The default value of `n_init` will change from 10 to 'auto' in 1.4. Set the value of `n_init` explicitly to suppress the warning\n",
            "  warnings.warn(\n",
            "C:\\Users\\admin\\AppData\\Local\\Programs\\Python\\Python311\\Lib\\site-packages\\sklearn\\cluster\\_kmeans.py:870: FutureWarning: The default value of `n_init` will change from 10 to 'auto' in 1.4. Set the value of `n_init` explicitly to suppress the warning\n",
            "  warnings.warn(\n",
            "C:\\Users\\admin\\AppData\\Local\\Programs\\Python\\Python311\\Lib\\site-packages\\sklearn\\cluster\\_kmeans.py:870: FutureWarning: The default value of `n_init` will change from 10 to 'auto' in 1.4. Set the value of `n_init` explicitly to suppress the warning\n",
            "  warnings.warn(\n",
            "C:\\Users\\admin\\AppData\\Local\\Programs\\Python\\Python311\\Lib\\site-packages\\sklearn\\cluster\\_kmeans.py:870: FutureWarning: The default value of `n_init` will change from 10 to 'auto' in 1.4. Set the value of `n_init` explicitly to suppress the warning\n",
            "  warnings.warn(\n",
            "C:\\Users\\admin\\AppData\\Local\\Programs\\Python\\Python311\\Lib\\site-packages\\sklearn\\cluster\\_kmeans.py:870: FutureWarning: The default value of `n_init` will change from 10 to 'auto' in 1.4. Set the value of `n_init` explicitly to suppress the warning\n",
            "  warnings.warn(\n",
            "C:\\Users\\admin\\AppData\\Local\\Programs\\Python\\Python311\\Lib\\site-packages\\sklearn\\cluster\\_kmeans.py:870: FutureWarning: The default value of `n_init` will change from 10 to 'auto' in 1.4. Set the value of `n_init` explicitly to suppress the warning\n",
            "  warnings.warn(\n",
            "C:\\Users\\admin\\AppData\\Local\\Programs\\Python\\Python311\\Lib\\site-packages\\sklearn\\cluster\\_kmeans.py:870: FutureWarning: The default value of `n_init` will change from 10 to 'auto' in 1.4. Set the value of `n_init` explicitly to suppress the warning\n",
            "  warnings.warn(\n",
            "C:\\Users\\admin\\AppData\\Local\\Programs\\Python\\Python311\\Lib\\site-packages\\sklearn\\cluster\\_kmeans.py:870: FutureWarning: The default value of `n_init` will change from 10 to 'auto' in 1.4. Set the value of `n_init` explicitly to suppress the warning\n",
            "  warnings.warn(\n",
            "C:\\Users\\admin\\AppData\\Local\\Programs\\Python\\Python311\\Lib\\site-packages\\sklearn\\cluster\\_kmeans.py:870: FutureWarning: The default value of `n_init` will change from 10 to 'auto' in 1.4. Set the value of `n_init` explicitly to suppress the warning\n",
            "  warnings.warn(\n",
            "C:\\Users\\admin\\AppData\\Local\\Programs\\Python\\Python311\\Lib\\site-packages\\sklearn\\cluster\\_kmeans.py:870: FutureWarning: The default value of `n_init` will change from 10 to 'auto' in 1.4. Set the value of `n_init` explicitly to suppress the warning\n",
            "  warnings.warn(\n",
            "C:\\Users\\admin\\AppData\\Local\\Programs\\Python\\Python311\\Lib\\site-packages\\sklearn\\cluster\\_kmeans.py:870: FutureWarning: The default value of `n_init` will change from 10 to 'auto' in 1.4. Set the value of `n_init` explicitly to suppress the warning\n",
            "  warnings.warn(\n",
            "C:\\Users\\admin\\AppData\\Local\\Programs\\Python\\Python311\\Lib\\site-packages\\sklearn\\cluster\\_kmeans.py:870: FutureWarning: The default value of `n_init` will change from 10 to 'auto' in 1.4. Set the value of `n_init` explicitly to suppress the warning\n",
            "  warnings.warn(\n"
          ]
        },
        {
          "data": {
            "text/plain": "<Figure size 1000x600 with 1 Axes>",
            "image/png": "[encoded data removed]"
          },
          "metadata": {},
          "output_type": "display_data"
        }
      ],
      "source": [
        "from sklearn.cluster import KMeans\n",
        "import matplotlib.pyplot as plt\n",
        "\n",
        "# Используем метод \"локтя\" для определения оптимального количества кластеров\n",
        "inertia = []\n",
        "for k in range(1, 50):\n",
        "    kmeans = KMeans(n_clusters=k, random_state=42).fit(X_scaled)\n",
        "    inertia.append(kmeans.inertia_)\n",
        "\n",
        "# График изменения инерции от количества кластеров\n",
        "plt.figure(figsize=(10, 6))\n",
        "plt.plot(range(1, 50), inertia, marker='o', linestyle='--')\n",
        "plt.title('Изменение инерции от количества кластеров')\n",
        "plt.xlabel('Количество кластеров')\n",
        "plt.ylabel('Инерция')\n",
        "plt.show()\n"
      ],
      "metadata": {
        "ExecuteTime": {
          "start_time": "2023-08-18T21:34:13.483513Z",
          "end_time": "2023-08-18T21:53:07.770892Z"
        },
        "id": "ac3ZjZbcay6Q",
        "outputId": "e627ac53-5c6f-4bfe-852f-f64477548bc5"
      }
    },
    {
      "cell_type": "code",
      "execution_count": null,
      "outputs": [
        {
          "name": "stderr",
          "output_type": "stream",
          "text": [
            "C:\\Users\\admin\\AppData\\Local\\Programs\\Python\\Python311\\Lib\\site-packages\\sklearn\\cluster\\_kmeans.py:870: FutureWarning: The default value of `n_init` will change from 10 to 'auto' in 1.4. Set the value of `n_init` explicitly to suppress the warning\n",
            "  warnings.warn(\n"
          ]
        }
      ],
      "source": [
        "# Выберите оптимальное количество кластеров на основе графика\n",
        "optimal_clusters = 50  # например, 4\n",
        "\n",
        "# Применяем KMeans\n",
        "kmeans = KMeans(n_clusters=optimal_clusters, random_state=42).fit(X_scaled)\n",
        "\n",
        "# Добавляем результаты кластеризации к нашему датафрейму\n",
        "train_data['cluster'] = kmeans.labels_"
      ],
      "metadata": {
        "ExecuteTime": {
          "start_time": "2023-08-18T21:53:07.771889Z",
          "end_time": "2023-08-18T21:54:08.836357Z"
        },
        "id": "e08CvxNSay6R",
        "outputId": "2e4cb602-893a-4d7b-8a3b-ab70437fbdab"
      }
    },
    {
      "cell_type": "code",
      "execution_count": null,
      "outputs": [],
      "source": [
        "# Преобразование тестовых данных с использованием уже обученного препроцессора и масштабировщика\n",
        "X_test_cluster = test_data  # Удаляем столбец 'saledate', так как вы говорили, что его больше нет\n",
        "X_test_preprocessed = preprocessor.transform(X_test_cluster)\n",
        "X_test_scaled = scaler.transform(X_test_preprocessed)\n",
        "\n",
        "# Применение модели KMeans к преобразованным тестовым данным\n",
        "test_data['cluster'] = kmeans.predict(X_test_scaled)\n"
      ],
      "metadata": {
        "ExecuteTime": {
          "start_time": "2023-08-18T21:54:08.839349Z",
          "end_time": "2023-08-18T21:54:10.298157Z"
        },
        "id": "_XtzGrxNay6R"
      }
    },
    {
      "cell_type": "code",
      "execution_count": null,
      "outputs": [
        {
          "data": {
            "text/plain": "0         32\n1          9\n2          9\n3         47\n4         38\n          ..\n110053    25\n110054    18\n110055    34\n110056    41\n110057    42\nName: cluster, Length: 110058, dtype: int32"
          },
          "execution_count": 204,
          "metadata": {},
          "output_type": "execute_result"
        }
      ],
      "source": [
        "test_data['cluster']"
      ],
      "metadata": {
        "ExecuteTime": {
          "start_time": "2023-08-18T21:54:10.299154Z",
          "end_time": "2023-08-18T21:54:10.306481Z"
        },
        "id": "XCC5OZWjay6R",
        "outputId": "b84633de-4e9f-489b-eedb-dceb47a5fc97"
      }
    },
    {
      "cell_type": "markdown",
      "source": [],
      "metadata": {
        "collapsed": false,
        "id": "mamUnLL-ay6S"
      }
    },
    {
      "cell_type": "markdown",
      "source": [],
      "metadata": {
        "collapsed": false,
        "id": "0ptSn-X9ay6S"
      }
    },
    {
      "cell_type": "code",
      "execution_count": null,
      "outputs": [],
      "source": [
        "# 1. Удаление неинформативных столбцов\n",
        "#cols_to_drop = ['vin', 'saledate', 'sellingprice']\n",
        "cols_to_drop = ['vin', 'sellingprice']\n",
        "X_train = train_data.drop(columns=cols_to_drop)\n",
        "y_train = train_data['sellingprice']\n"
      ],
      "metadata": {
        "ExecuteTime": {
          "start_time": "2023-08-18T21:54:10.324811Z",
          "end_time": "2023-08-18T21:54:10.402672Z"
        },
        "id": "eHLTaza0ay6S"
      }
    },
    {
      "cell_type": "code",
      "execution_count": null,
      "outputs": [],
      "source": [
        "X_test = test_data"
      ],
      "metadata": {
        "ExecuteTime": {
          "start_time": "2023-08-18T21:54:10.394692Z",
          "end_time": "2023-08-18T21:54:10.402672Z"
        },
        "id": "Zg8-ZF1Hay6S"
      }
    },
    {
      "cell_type": "code",
      "execution_count": null,
      "outputs": [],
      "source": [
        "# Функция для расчета MAPE\n",
        "def mape(y_true, y_pred):\n",
        "    return np.mean(np.abs((y_true - y_pred) / y_true)) * 100"
      ],
      "metadata": {
        "ExecuteTime": {
          "start_time": "2023-08-18T21:54:10.401673Z",
          "end_time": "2023-08-18T21:54:10.442565Z"
        },
        "id": "kXO69g7lay6S"
      }
    },
    {
      "cell_type": "code",
      "execution_count": null,
      "outputs": [],
      "source": [
        "mape_scorer = make_scorer(mape, greater_is_better=False)\n",
        "\n",
        "\n",
        "# Определение категориальных признаков\n",
        "categorical_features = X_train.select_dtypes(include=['object']).columns.tolist()\n",
        "# Создание трансформера для категориальных признаков\n",
        "categorical_transformer = Pipeline(steps=[\n",
        "    ('encoder', OrdinalEncoder(handle_unknown='use_encoded_value', unknown_value=-1))\n",
        "])\n",
        "\n",
        "# Создание итогового трансформера\n",
        "preprocessor = ColumnTransformer(\n",
        "    transformers=[\n",
        "        ('cat', categorical_transformer, categorical_features)\n",
        "    ],\n",
        "    remainder='passthrough'\n",
        ")\n"
      ],
      "metadata": {
        "ExecuteTime": {
          "start_time": "2023-08-18T21:54:10.411647Z",
          "end_time": "2023-08-18T21:54:10.457799Z"
        },
        "id": "e0FEbhoUay6T"
      }
    },
    {
      "cell_type": "code",
      "execution_count": null,
      "outputs": [
        {
          "data": {
            "text/plain": "        year    make              model       trim      body transmission  \\\n0       2011    Ford               Edge        SEL       suv    automatic   \n1       2014    Ford             Fusion         SE     Sedan    automatic   \n2       2012  Nissan             Sentra     2.0 SL     sedan    automatic   \n3       2003  HUMMER                 H2       Base       suv    automatic   \n4       2007    Ford             Fusion        SEL     Sedan    automatic   \n...      ...     ...                ...        ...       ...          ...   \n440231  2013     Kia             Optima  EX Hybrid     Sedan    automatic   \n440232  2014    MINI  Cooper Countryman     S ALL4     Wagon    automatic   \n440233  2008     BMW           6 Series       650i     Coupe    automatic   \n440234  2014     Ram               2500        SLT  Crew Cab    automatic   \n440235  2013  Nissan              Rogue         SV       SUV    automatic   \n\n       state  condition  odometer   color interior  \\\n0         md        4.2  111041.0   black    black   \n1         mo        3.5   31034.0   black    black   \n2         nj        2.2   35619.0   black    black   \n3         tx        2.8  131301.0    gold    beige   \n4         md        2.0  127709.0   black    black   \n...      ...        ...       ...     ...      ...   \n440231    ca        4.5   20434.0   white    beige   \n440232    wi        2.9   14675.0   white    black   \n440233    ca        3.7  102552.0    gray    black   \n440234    tx        3.0   29367.0   white     gray   \n440235    il        3.5   27924.0  silver     gray   \n\n                             seller  raritet  timezone  days_in_use  cluster  \n0                santander consumer        0       7.0         1613       33  \n1             ars/avis budget group        0       8.0          420        5  \n2                nissan-infiniti lt        0       7.0         1256       15  \n3        wichita falls ford lin inc        0       7.0         4550       20  \n4                      purple heart        0       8.0         2955        8  \n...                             ...      ...       ...          ...      ...  \n440231      kia motors america, inc        0       8.0          749       48  \n440232  bmw mini financial services        0       8.0          406       35  \n440233       studio city auto group        0       8.0         2618       44  \n440234   express car & truck rental        0       8.0          378       46  \n440235                 ec sales,llc        0       8.0          744       24  \n\n[439985 rows x 16 columns]",
            "text/html": "<div>\n<style scoped>\n    .dataframe tbody tr th:only-of-type {\n        vertical-align: middle;\n    }\n\n    .dataframe tbody tr th {\n        vertical-align: top;\n    }\n\n    .dataframe thead th {\n        text-align: right;\n    }\n</style>\n<table border=\"1\" class=\"dataframe\">\n  <thead>\n    <tr style=\"text-align: right;\">\n      <th></th>\n      <th>year</th>\n      <th>make</th>\n      <th>model</th>\n      <th>trim</th>\n      <th>body</th>\n      <th>transmission</th>\n      <th>state</th>\n      <th>condition</th>\n      <th>odometer</th>\n      <th>color</th>\n      <th>interior</th>\n      <th>seller</th>\n      <th>raritet</th>\n      <th>timezone</th>\n      <th>days_in_use</th>\n      <th>cluster</th>\n    </tr>\n  </thead>\n  <tbody>\n    <tr>\n      <th>0</th>\n      <td>2011</td>\n      <td>Ford</td>\n      <td>Edge</td>\n      <td>SEL</td>\n      <td>suv</td>\n      <td>automatic</td>\n      <td>md</td>\n      <td>4.2</td>\n      <td>111041.0</td>\n      <td>black</td>\n      <td>black</td>\n      <td>santander consumer</td>\n      <td>0</td>\n      <td>7.0</td>\n      <td>1613</td>\n      <td>33</td>\n    </tr>\n    <tr>\n      <th>1</th>\n      <td>2014</td>\n      <td>Ford</td>\n      <td>Fusion</td>\n      <td>SE</td>\n      <td>Sedan</td>\n      <td>automatic</td>\n      <td>mo</td>\n      <td>3.5</td>\n      <td>31034.0</td>\n      <td>black</td>\n      <td>black</td>\n      <td>ars/avis budget group</td>\n      <td>0</td>\n      <td>8.0</td>\n      <td>420</td>\n      <td>5</td>\n    </tr>\n    <tr>\n      <th>2</th>\n      <td>2012</td>\n      <td>Nissan</td>\n      <td>Sentra</td>\n      <td>2.0 SL</td>\n      <td>sedan</td>\n      <td>automatic</td>\n      <td>nj</td>\n      <td>2.2</td>\n      <td>35619.0</td>\n      <td>black</td>\n      <td>black</td>\n      <td>nissan-infiniti lt</td>\n      <td>0</td>\n      <td>7.0</td>\n      <td>1256</td>\n      <td>15</td>\n    </tr>\n    <tr>\n      <th>3</th>\n      <td>2003</td>\n      <td>HUMMER</td>\n      <td>H2</td>\n      <td>Base</td>\n      <td>suv</td>\n      <td>automatic</td>\n      <td>tx</td>\n      <td>2.8</td>\n      <td>131301.0</td>\n      <td>gold</td>\n      <td>beige</td>\n      <td>wichita falls ford lin inc</td>\n      <td>0</td>\n      <td>7.0</td>\n      <td>4550</td>\n      <td>20</td>\n    </tr>\n    <tr>\n      <th>4</th>\n      <td>2007</td>\n      <td>Ford</td>\n      <td>Fusion</td>\n      <td>SEL</td>\n      <td>Sedan</td>\n      <td>automatic</td>\n      <td>md</td>\n      <td>2.0</td>\n      <td>127709.0</td>\n      <td>black</td>\n      <td>black</td>\n      <td>purple heart</td>\n      <td>0</td>\n      <td>8.0</td>\n      <td>2955</td>\n      <td>8</td>\n    </tr>\n    <tr>\n      <th>...</th>\n      <td>...</td>\n      <td>...</td>\n      <td>...</td>\n      <td>...</td>\n      <td>...</td>\n      <td>...</td>\n      <td>...</td>\n      <td>...</td>\n      <td>...</td>\n      <td>...</td>\n      <td>...</td>\n      <td>...</td>\n      <td>...</td>\n      <td>...</td>\n      <td>...</td>\n      <td>...</td>\n    </tr>\n    <tr>\n      <th>440231</th>\n      <td>2013</td>\n      <td>Kia</td>\n      <td>Optima</td>\n      <td>EX Hybrid</td>\n      <td>Sedan</td>\n      <td>automatic</td>\n      <td>ca</td>\n      <td>4.5</td>\n      <td>20434.0</td>\n      <td>white</td>\n      <td>beige</td>\n      <td>kia motors america, inc</td>\n      <td>0</td>\n      <td>8.0</td>\n      <td>749</td>\n      <td>48</td>\n    </tr>\n    <tr>\n      <th>440232</th>\n      <td>2014</td>\n      <td>MINI</td>\n      <td>Cooper Countryman</td>\n      <td>S ALL4</td>\n      <td>Wagon</td>\n      <td>automatic</td>\n      <td>wi</td>\n      <td>2.9</td>\n      <td>14675.0</td>\n      <td>white</td>\n      <td>black</td>\n      <td>bmw mini financial services</td>\n      <td>0</td>\n      <td>8.0</td>\n      <td>406</td>\n      <td>35</td>\n    </tr>\n    <tr>\n      <th>440233</th>\n      <td>2008</td>\n      <td>BMW</td>\n      <td>6 Series</td>\n      <td>650i</td>\n      <td>Coupe</td>\n      <td>automatic</td>\n      <td>ca</td>\n      <td>3.7</td>\n      <td>102552.0</td>\n      <td>gray</td>\n      <td>black</td>\n      <td>studio city auto group</td>\n      <td>0</td>\n      <td>8.0</td>\n      <td>2618</td>\n      <td>44</td>\n    </tr>\n    <tr>\n      <th>440234</th>\n      <td>2014</td>\n      <td>Ram</td>\n      <td>2500</td>\n      <td>SLT</td>\n      <td>Crew Cab</td>\n      <td>automatic</td>\n      <td>tx</td>\n      <td>3.0</td>\n      <td>29367.0</td>\n      <td>white</td>\n      <td>gray</td>\n      <td>express car &amp; truck rental</td>\n      <td>0</td>\n      <td>8.0</td>\n      <td>378</td>\n      <td>46</td>\n    </tr>\n    <tr>\n      <th>440235</th>\n      <td>2013</td>\n      <td>Nissan</td>\n      <td>Rogue</td>\n      <td>SV</td>\n      <td>SUV</td>\n      <td>automatic</td>\n      <td>il</td>\n      <td>3.5</td>\n      <td>27924.0</td>\n      <td>silver</td>\n      <td>gray</td>\n      <td>ec sales,llc</td>\n      <td>0</td>\n      <td>8.0</td>\n      <td>744</td>\n      <td>24</td>\n    </tr>\n  </tbody>\n</table>\n<p>439985 rows × 16 columns</p>\n</div>"
          },
          "execution_count": 211,
          "metadata": {},
          "output_type": "execute_result"
        }
      ],
      "source": [
        "X_train"
      ],
      "metadata": {
        "ExecuteTime": {
          "start_time": "2023-08-18T21:54:10.455961Z",
          "end_time": "2023-08-18T21:54:10.485721Z"
        },
        "id": "3NKM0AwOay6T",
        "outputId": "799a9231-b02a-43b2-ecc3-d6cecf60b89b"
      }
    },
    {
      "cell_type": "code",
      "execution_count": null,
      "outputs": [
        {
          "data": {
            "text/plain": "year              int64\nmake             object\nmodel            object\ntrim             object\nbody             object\ntransmission     object\nstate            object\ncondition       float64\nodometer        float64\ncolor            object\ninterior         object\nseller           object\nraritet           int64\ntimezone        float64\ndays_in_use       int64\ncluster           int32\ndtype: object"
          },
          "execution_count": 212,
          "metadata": {},
          "output_type": "execute_result"
        }
      ],
      "source": [
        "X_train.dtypes\n"
      ],
      "metadata": {
        "ExecuteTime": {
          "start_time": "2023-08-18T21:54:10.478739Z",
          "end_time": "2023-08-18T21:54:10.494698Z"
        },
        "id": "qjHImeUeay6T",
        "outputId": "ee84613b-ff74-41c3-9510-abbb9f8d1f25"
      }
    },
    {
      "cell_type": "markdown",
      "source": [],
      "metadata": {
        "collapsed": false,
        "id": "YDBmkH-6ay6U"
      }
    },
    {
      "cell_type": "code",
      "execution_count": null,
      "outputs": [
        {
          "name": "stdout",
          "output_type": "stream",
          "text": [
            "Fitting 3 folds for each of 1 candidates, totalling 3 fits\n"
          ]
        },
        {
          "data": {
            "text/plain": "GridSearchCV(cv=3, error_score='raise',\n             estimator=Pipeline(steps=[('preprocessor',\n                                        ColumnTransformer(remainder='passthrough',\n                                                          transformers=[('cat',\n                                                                         Pipeline(steps=[('encoder',\n                                                                                          OrdinalEncoder(handle_unknown='use_encoded_value',\n                                                                                                         unknown_value=-1))]),\n                                                                         ['make',\n                                                                          'model',\n                                                                          'trim',\n                                                                          'body',\n                                                                          'transmission',\n                                                                          'state',\n                                                                          'color',\n                                                                          'interior',\n                                                                          'seller'])])),\n                                       ('model',\n                                        <catboost.core.CatBoostRegressor object at 0x0000020CE688D1D0>)]),\n             n_jobs=-1,\n             param_grid={'model__depth': [16], 'model__iterations': [2000],\n                         'model__l2_leaf_reg': [1],\n                         'model__learning_rate': [0.1]},\n             scoring=make_scorer(mape, greater_is_better=False), verbose=2)",
            "text/html": "<style>#sk-container-id-3 {color: black;background-color: white;}#sk-container-id-3 pre{padding: 0;}#sk-container-id-3 div.sk-toggleable {background-color: white;}#sk-container-id-3 label.sk-toggleable__label {cursor: pointer;display: block;width: 100%;margin-bottom: 0;padding: 0.3em;box-sizing: border-box;text-align: center;}#sk-container-id-3 label.sk-toggleable__label-arrow:before {content: \"▸\";float: left;margin-right: 0.25em;color: #696969;}#sk-container-id-3 label.sk-toggleable__label-arrow:hover:before {color: black;}#sk-container-id-3 div.sk-estimator:hover label.sk-toggleable__label-arrow:before {color: black;}#sk-container-id-3 div.sk-toggleable__content {max-height: 0;max-width: 0;overflow: hidden;text-align: left;background-color: #f0f8ff;}#sk-container-id-3 div.sk-toggleable__content pre {margin: 0.2em;color: black;border-radius: 0.25em;background-color: #f0f8ff;}#sk-container-id-3 input.sk-toggleable__control:checked~div.sk-toggleable__content {max-height: 200px;max-width: 100%;overflow: auto;}#sk-container-id-3 input.sk-toggleable__control:checked~label.sk-toggleable__label-arrow:before {content: \"▾\";}#sk-container-id-3 div.sk-estimator input.sk-toggleable__control:checked~label.sk-toggleable__label {background-color: #d4ebff;}#sk-container-id-3 div.sk-label input.sk-toggleable__control:checked~label.sk-toggleable__label {background-color: #d4ebff;}#sk-container-id-3 input.sk-hidden--visually {border: 0;clip: rect(1px 1px 1px 1px);clip: rect(1px, 1px, 1px, 1px);height: 1px;margin: -1px;overflow: hidden;padding: 0;position: absolute;width: 1px;}#sk-container-id-3 div.sk-estimator {font-family: monospace;background-color: #f0f8ff;border: 1px dotted black;border-radius: 0.25em;box-sizing: border-box;margin-bottom: 0.5em;}#sk-container-id-3 div.sk-estimator:hover {background-color: #d4ebff;}#sk-container-id-3 div.sk-parallel-item::after {content: \"\";width: 100%;border-bottom: 1px solid gray;flex-grow: 1;}#sk-container-id-3 div.sk-label:hover label.sk-toggleable__label {background-color: #d4ebff;}#sk-container-id-3 div.sk-serial::before {content: \"\";position: absolute;border-left: 1px solid gray;box-sizing: border-box;top: 0;bottom: 0;left: 50%;z-index: 0;}#sk-container-id-3 div.sk-serial {display: flex;flex-direction: column;align-items: center;background-color: white;padding-right: 0.2em;padding-left: 0.2em;position: relative;}#sk-container-id-3 div.sk-item {position: relative;z-index: 1;}#sk-container-id-3 div.sk-parallel {display: flex;align-items: stretch;justify-content: center;background-color: white;position: relative;}#sk-container-id-3 div.sk-item::before, #sk-container-id-3 div.sk-parallel-item::before {content: \"\";position: absolute;border-left: 1px solid gray;box-sizing: border-box;top: 0;bottom: 0;left: 50%;z-index: -1;}#sk-container-id-3 div.sk-parallel-item {display: flex;flex-direction: column;z-index: 1;position: relative;background-color: white;}#sk-container-id-3 div.sk-parallel-item:first-child::after {align-self: flex-end;width: 50%;}#sk-container-id-3 div.sk-parallel-item:last-child::after {align-self: flex-start;width: 50%;}#sk-container-id-3 div.sk-parallel-item:only-child::after {width: 0;}#sk-container-id-3 div.sk-dashed-wrapped {border: 1px dashed gray;margin: 0 0.4em 0.5em 0.4em;box-sizing: border-box;padding-bottom: 0.4em;background-color: white;}#sk-container-id-3 div.sk-label label {font-family: monospace;font-weight: bold;display: inline-block;line-height: 1.2em;}#sk-container-id-3 div.sk-label-container {text-align: center;}#sk-container-id-3 div.sk-container {/* jupyter's `normalize.less` sets `[hidden] { display: none; }` but bootstrap.min.css set `[hidden] { display: none !important; }` so we also need the `!important` here to be able to override the default hidden behavior on the sphinx rendered scikit-learn.org. See: https://github.com/scikit-learn/scikit-learn/issues/21755 */display: inline-block !important;position: relative;}#sk-container-id-3 div.sk-text-repr-fallback {display: none;}</style><div id=\"sk-container-id-3\" class=\"sk-top-container\"><div class=\"sk-text-repr-fallback\"><pre>GridSearchCV(cv=3, error_score=&#x27;raise&#x27;,\n             estimator=Pipeline(steps=[(&#x27;preprocessor&#x27;,\n                                        ColumnTransformer(remainder=&#x27;passthrough&#x27;,\n                                                          transformers=[(&#x27;cat&#x27;,\n                                                                         Pipeline(steps=[(&#x27;encoder&#x27;,\n                                                                                          OrdinalEncoder(handle_unknown=&#x27;use_encoded_value&#x27;,\n                                                                                                         unknown_value=-1))]),\n                                                                         [&#x27;make&#x27;,\n                                                                          &#x27;model&#x27;,\n                                                                          &#x27;trim&#x27;,\n                                                                          &#x27;body&#x27;,\n                                                                          &#x27;transmission&#x27;,\n                                                                          &#x27;state&#x27;,\n                                                                          &#x27;color&#x27;,\n                                                                          &#x27;interior&#x27;,\n                                                                          &#x27;seller&#x27;])])),\n                                       (&#x27;model&#x27;,\n                                        &lt;catboost.core.CatBoostRegressor object at 0x0000020CE688D1D0&gt;)]),\n             n_jobs=-1,\n             param_grid={&#x27;model__depth&#x27;: [16], &#x27;model__iterations&#x27;: [2000],\n                         &#x27;model__l2_leaf_reg&#x27;: [1],\n                         &#x27;model__learning_rate&#x27;: [0.1]},\n             scoring=make_scorer(mape, greater_is_better=False), verbose=2)</pre><b>In a Jupyter environment, please rerun this cell to show the HTML representation or trust the notebook. <br />On GitHub, the HTML representation is unable to render, please try loading this page with nbviewer.org.</b></div><div class=\"sk-container\" hidden><div class=\"sk-item sk-dashed-wrapped\"><div class=\"sk-label-container\"><div class=\"sk-label sk-toggleable\"><input class=\"sk-toggleable__control sk-hidden--visually\" id=\"sk-estimator-id-17\" type=\"checkbox\" ><label for=\"sk-estimator-id-17\" class=\"sk-toggleable__label sk-toggleable__label-arrow\">GridSearchCV</label><div class=\"sk-toggleable__content\"><pre>GridSearchCV(cv=3, error_score=&#x27;raise&#x27;,\n             estimator=Pipeline(steps=[(&#x27;preprocessor&#x27;,\n                                        ColumnTransformer(remainder=&#x27;passthrough&#x27;,\n                                                          transformers=[(&#x27;cat&#x27;,\n                                                                         Pipeline(steps=[(&#x27;encoder&#x27;,\n                                                                                          OrdinalEncoder(handle_unknown=&#x27;use_encoded_value&#x27;,\n                                                                                                         unknown_value=-1))]),\n                                                                         [&#x27;make&#x27;,\n                                                                          &#x27;model&#x27;,\n                                                                          &#x27;trim&#x27;,\n                                                                          &#x27;body&#x27;,\n                                                                          &#x27;transmission&#x27;,\n                                                                          &#x27;state&#x27;,\n                                                                          &#x27;color&#x27;,\n                                                                          &#x27;interior&#x27;,\n                                                                          &#x27;seller&#x27;])])),\n                                       (&#x27;model&#x27;,\n                                        &lt;catboost.core.CatBoostRegressor object at 0x0000020CE688D1D0&gt;)]),\n             n_jobs=-1,\n             param_grid={&#x27;model__depth&#x27;: [16], &#x27;model__iterations&#x27;: [2000],\n                         &#x27;model__l2_leaf_reg&#x27;: [1],\n                         &#x27;model__learning_rate&#x27;: [0.1]},\n             scoring=make_scorer(mape, greater_is_better=False), verbose=2)</pre></div></div></div><div class=\"sk-parallel\"><div class=\"sk-parallel-item\"><div class=\"sk-item\"><div class=\"sk-label-container\"><div class=\"sk-label sk-toggleable\"><input class=\"sk-toggleable__control sk-hidden--visually\" id=\"sk-estimator-id-18\" type=\"checkbox\" ><label for=\"sk-estimator-id-18\" class=\"sk-toggleable__label sk-toggleable__label-arrow\">estimator: Pipeline</label><div class=\"sk-toggleable__content\"><pre>Pipeline(steps=[(&#x27;preprocessor&#x27;,\n                 ColumnTransformer(remainder=&#x27;passthrough&#x27;,\n                                   transformers=[(&#x27;cat&#x27;,\n                                                  Pipeline(steps=[(&#x27;encoder&#x27;,\n                                                                   OrdinalEncoder(handle_unknown=&#x27;use_encoded_value&#x27;,\n                                                                                  unknown_value=-1))]),\n                                                  [&#x27;make&#x27;, &#x27;model&#x27;, &#x27;trim&#x27;,\n                                                   &#x27;body&#x27;, &#x27;transmission&#x27;,\n                                                   &#x27;state&#x27;, &#x27;color&#x27;, &#x27;interior&#x27;,\n                                                   &#x27;seller&#x27;])])),\n                (&#x27;model&#x27;,\n                 &lt;catboost.core.CatBoostRegressor object at 0x0000020CE688D1D0&gt;)])</pre></div></div></div><div class=\"sk-serial\"><div class=\"sk-item\"><div class=\"sk-serial\"><div class=\"sk-item sk-dashed-wrapped\"><div class=\"sk-label-container\"><div class=\"sk-label sk-toggleable\"><input class=\"sk-toggleable__control sk-hidden--visually\" id=\"sk-estimator-id-19\" type=\"checkbox\" ><label for=\"sk-estimator-id-19\" class=\"sk-toggleable__label sk-toggleable__label-arrow\">preprocessor: ColumnTransformer</label><div class=\"sk-toggleable__content\"><pre>ColumnTransformer(remainder=&#x27;passthrough&#x27;,\n                  transformers=[(&#x27;cat&#x27;,\n                                 Pipeline(steps=[(&#x27;encoder&#x27;,\n                                                  OrdinalEncoder(handle_unknown=&#x27;use_encoded_value&#x27;,\n                                                                 unknown_value=-1))]),\n                                 [&#x27;make&#x27;, &#x27;model&#x27;, &#x27;trim&#x27;, &#x27;body&#x27;,\n                                  &#x27;transmission&#x27;, &#x27;state&#x27;, &#x27;color&#x27;, &#x27;interior&#x27;,\n                                  &#x27;seller&#x27;])])</pre></div></div></div><div class=\"sk-parallel\"><div class=\"sk-parallel-item\"><div class=\"sk-item\"><div class=\"sk-label-container\"><div class=\"sk-label sk-toggleable\"><input class=\"sk-toggleable__control sk-hidden--visually\" id=\"sk-estimator-id-20\" type=\"checkbox\" ><label for=\"sk-estimator-id-20\" class=\"sk-toggleable__label sk-toggleable__label-arrow\">cat</label><div class=\"sk-toggleable__content\"><pre>[&#x27;make&#x27;, &#x27;model&#x27;, &#x27;trim&#x27;, &#x27;body&#x27;, &#x27;transmission&#x27;, &#x27;state&#x27;, &#x27;color&#x27;, &#x27;interior&#x27;, &#x27;seller&#x27;]</pre></div></div></div><div class=\"sk-serial\"><div class=\"sk-item\"><div class=\"sk-serial\"><div class=\"sk-item\"><div class=\"sk-estimator sk-toggleable\"><input class=\"sk-toggleable__control sk-hidden--visually\" id=\"sk-estimator-id-21\" type=\"checkbox\" ><label for=\"sk-estimator-id-21\" class=\"sk-toggleable__label sk-toggleable__label-arrow\">OrdinalEncoder</label><div class=\"sk-toggleable__content\"><pre>OrdinalEncoder(handle_unknown=&#x27;use_encoded_value&#x27;, unknown_value=-1)</pre></div></div></div></div></div></div></div></div><div class=\"sk-parallel-item\"><div class=\"sk-item\"><div class=\"sk-label-container\"><div class=\"sk-label sk-toggleable\"><input class=\"sk-toggleable__control sk-hidden--visually\" id=\"sk-estimator-id-22\" type=\"checkbox\" ><label for=\"sk-estimator-id-22\" class=\"sk-toggleable__label sk-toggleable__label-arrow\">remainder</label><div class=\"sk-toggleable__content\"><pre></pre></div></div></div><div class=\"sk-serial\"><div class=\"sk-item\"><div class=\"sk-estimator sk-toggleable\"><input class=\"sk-toggleable__control sk-hidden--visually\" id=\"sk-estimator-id-23\" type=\"checkbox\" ><label for=\"sk-estimator-id-23\" class=\"sk-toggleable__label sk-toggleable__label-arrow\">passthrough</label><div class=\"sk-toggleable__content\"><pre>passthrough</pre></div></div></div></div></div></div></div></div><div class=\"sk-item\"><div class=\"sk-estimator sk-toggleable\"><input class=\"sk-toggleable__control sk-hidden--visually\" id=\"sk-estimator-id-24\" type=\"checkbox\" ><label for=\"sk-estimator-id-24\" class=\"sk-toggleable__label sk-toggleable__label-arrow\">CatBoostRegressor</label><div class=\"sk-toggleable__content\"><pre>&lt;catboost.core.CatBoostRegressor object at 0x0000020CE688D1D0&gt;</pre></div></div></div></div></div></div></div></div></div></div></div></div>"
          },
          "execution_count": 213,
          "metadata": {},
          "output_type": "execute_result"
        }
      ],
      "source": [
        "from catboost import CatBoostRegressor\n",
        "from sklearn.model_selection import GridSearchCV\n",
        "\n",
        "# Параметры для GridSearch\n",
        "param_grid = {\n",
        "    'model__iterations': [2000],\n",
        "    'model__depth': [16],\n",
        "    'model__learning_rate': [0.1],\n",
        "    'model__l2_leaf_reg': [1]\n",
        "}\n",
        "\n",
        "# Создание конвейера с CatBoost\n",
        "pipeline_catboost = Pipeline(steps=[('preprocessor', preprocessor),\n",
        "                                    ('model', CatBoostRegressor( verbose=0, random_seed=42))\n",
        "                                    ])\n",
        "\n",
        "# # Использование GridSearchCV для поиска лучших параметров\n",
        "# grid_search_catboost = GridSearchCV(pipeline_catboost, param_grid, cv=3, scoring=mape_scorer, verbose=2, n_jobs=-1)\n",
        "# grid_search_catboost.fit(X_train, y_train)\n",
        "\n",
        "grid_search_catboost = GridSearchCV(pipeline_catboost, param_grid, cv=3, scoring=mape_scorer, verbose=2, n_jobs=-1, error_score='raise')\n",
        "grid_search_catboost.fit(X_train, y_train)"
      ],
      "metadata": {
        "ExecuteTime": {
          "start_time": "2023-08-18T21:54:10.491705Z",
          "end_time": "2023-08-19T00:53:39.754079Z"
        },
        "id": "zdVlIn0Kay6U",
        "outputId": "01ebedec-ae0a-40d6-febe-4dacb26f45b5"
      }
    },
    {
      "cell_type": "code",
      "execution_count": null,
      "outputs": [
        {
          "data": {
            "text/plain": "<Figure size 1200x800 with 1 Axes>",
            "image/png": "[encoded data removed]"
          },
          "metadata": {},
          "output_type": "display_data"
        }
      ],
      "source": [
        "# Получение лучшей модели из GridSearchCV\n",
        "best_model = grid_search_catboost.best_estimator_['model']\n",
        "\n",
        "# Получение важности признаков\n",
        "feature_importances = best_model.get_feature_importance()\n",
        "\n",
        "# Сопоставление имен признаков и их важности\n",
        "features = X_train.columns\n",
        "importance_df = pd.DataFrame({'features': features, 'importance': feature_importances})\n",
        "\n",
        "# Сортировка признаков по важности и отображение на графике\n",
        "importance_df = importance_df.sort_values(by='importance', ascending=False)\n",
        "plt.figure(figsize=(12, 8))\n",
        "sns.barplot(data=importance_df, x='importance', y='features')\n",
        "plt.title(\"Важность признаков\")\n",
        "plt.xlabel(\"Важность\")\n",
        "plt.ylabel(\"Признаки\")\n",
        "plt.show()\n"
      ],
      "metadata": {
        "ExecuteTime": {
          "start_time": "2023-08-19T00:53:39.763055Z",
          "end_time": "2023-08-19T00:54:27.613871Z"
        },
        "id": "nbu7xgVzay6U",
        "outputId": "e3c9b4d9-6e88-42d7-97b3-a6c233276dd6"
      }
    },
    {
      "cell_type": "code",
      "execution_count": null,
      "outputs": [
        {
          "data": {
            "text/plain": "({'model__depth': 16,\n  'model__iterations': 2000,\n  'model__l2_leaf_reg': 1,\n  'model__learning_rate': 0.1},\n 5.72749382993702)"
          },
          "execution_count": 215,
          "metadata": {},
          "output_type": "execute_result"
        }
      ],
      "source": [
        "\n",
        "\n",
        "# Лучшие параметры\n",
        "best_params = grid_search_catboost.best_params_\n",
        "\n",
        "# Лучший пайплайн\n",
        "best_pipeline_catboost = grid_search_catboost.best_estimator_\n",
        "\n",
        "# Предсказание на тренировочной выборке\n",
        "train_preds = best_pipeline_catboost.predict(X_train)\n",
        "\n",
        "# Расчет MAPE\n",
        "train_mape = mape(y_train, train_preds)\n",
        "\n",
        "best_params, train_mape\n"
      ],
      "metadata": {
        "ExecuteTime": {
          "start_time": "2023-08-19T00:54:27.614869Z",
          "end_time": "2023-08-19T00:54:35.510624Z"
        },
        "id": "ajYs8efsay6V",
        "outputId": "7ebce49e-81f9-48bb-9f1a-0c95d256fbb9"
      }
    },
    {
      "cell_type": "code",
      "execution_count": null,
      "outputs": [],
      "source": [
        "# Предсказание на тестовой выборке\n",
        "test_preds = best_pipeline_catboost.predict(test_data)\n",
        "\n",
        "# Запись результатов в файл\n",
        "submission = pd.DataFrame({'vin': test_data['vin'], 'sellingprice': test_preds})\n",
        "submission.to_csv('sample_submission.csv', index=False)\n"
      ],
      "metadata": {
        "ExecuteTime": {
          "start_time": "2023-08-19T00:54:35.511621Z",
          "end_time": "2023-08-19T00:54:38.453859Z"
        },
        "id": "hTJyMrJYay6V"
      }
    },
    {
      "cell_type": "code",
      "execution_count": null,
      "outputs": [
        {
          "data": {
            "text/plain": "5.72749382993702"
          },
          "execution_count": 217,
          "metadata": {},
          "output_type": "execute_result"
        }
      ],
      "source": [
        "train_mape"
      ],
      "metadata": {
        "ExecuteTime": {
          "start_time": "2023-08-19T00:54:38.456849Z",
          "end_time": "2023-08-19T00:54:38.461097Z"
        },
        "id": "sNypdnw4ay6V",
        "outputId": "9a58038c-140c-4c29-d232-8b5a2d86c450"
      }
    },
    {
      "cell_type": "code",
      "execution_count": null,
      "outputs": [],
      "source": [],
      "metadata": {
        "ExecuteTime": {
          "start_time": "2023-08-19T00:54:38.462833Z",
          "end_time": "2023-08-19T00:54:38.465340Z"
        },
        "id": "6K9rI19aay6V"
      }
    }
  ],
  "metadata": {
    "kernelspec": {
      "display_name": "Python 3",
      "language": "python",
      "name": "python3"
    },
    "language_info": {
      "codemirror_mode": {
        "name": "ipython",
        "version": 2
      },
      "file_extension": ".py",
      "mimetype": "text/x-python",
      "name": "python",
      "nbconvert_exporter": "python",
      "pygments_lexer": "ipython2",
      "version": "2.7.6"
    },
    "colab": {
      "provenance": []
    }
  },
  "nbformat": 4,
  "nbformat_minor": 0
}